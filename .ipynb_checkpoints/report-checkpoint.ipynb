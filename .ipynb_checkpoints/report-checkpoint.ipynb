{
 "cells": [
  {
   "cell_type": "markdown",
   "metadata": {},
   "source": [
    "# Machine Learning Engineer Nanodegree\n",
    "## Reinforcement Learning\n",
    "## Project: Train a Smartcab to Drive\n",
    "\n",
    "Welcome to the fourth project of the Machine Learning Engineer Nanodegree! In this notebook, template code has already been provided for you to aid in your analysis of the *Smartcab* and your implemented learning algorithm. You will not need to modify the included code beyond what is requested. There will be questions that you must answer which relate to the project and the visualizations provided in the notebook. Each section where you will answer a question is preceded by a **'Question X'** header. Carefully read each question and provide thorough answers in the following text boxes that begin with **'Answer:'**. Your project submission will be evaluated based on your answers to each of the questions and the implementation you provide in `agent.py`.  \n",
    "\n",
    ">**Note:** Code and Markdown cells can be executed using the **Shift + Enter** keyboard shortcut. In addition, Markdown cells can be edited by typically double-clicking the cell to enter edit mode."
   ]
  },
  {
   "cell_type": "markdown",
   "metadata": {},
   "source": [
    "\n",
    "### Optimization Metrics\n",
    "In this project, you will work towards constructing an optimized Q-Learning driving agent that will navigate a *Smartcab* through its environment towards a goal. Since the *Smartcab* is expected to drive passengers from one location to another, the driving agent will be evaluated on two very important metrics: **Safety** and **Reliability**. A driving agent that gets the *Smartcab* to its destination while running red lights or narrowly avoiding accidents would be considered **unsafe**. Similarly, a driving agent that frequently fails to reach the destination in time would be considered **unreliable**. Maximizing the driving agent's **safety** and **reliability** would ensure that *Smartcabs* have a permanent place in the transportation industry.\n",
    "\n",
    "**Safety** and **Reliability** are measured using a letter-grade system as follows:\n",
    "\n",
    "| Grade \t| Safety \t| Reliability \t|\n",
    "|:-----:\t|:------:\t|:-----------:\t|\n",
    "|   A+  \t|  Agent commits no traffic violations,<br/>and always chooses the correct action. | Agent reaches the destination in time<br />for 100% of trips. |\n",
    "|   A   \t|  Agent commits few minor traffic violations,<br/>such as failing to move on a green light. | Agent reaches the destination on time<br />for at least 90% of trips. |\n",
    "|   B   \t| Agent commits frequent minor traffic violations,<br/>such as failing to move on a green light. | Agent reaches the destination on time<br />for at least 80% of trips. |\n",
    "|   C   \t|  Agent commits at least one major traffic violation,<br/> such as driving through a red light. | Agent reaches the destination on time<br />for at least 70% of trips. |\n",
    "|   D   \t| Agent causes at least one minor accident,<br/> such as turning left on green with oncoming traffic.       \t| Agent reaches the destination on time<br />for at least 60% of trips. |\n",
    "|   F   \t|  Agent causes at least one major accident,<br />such as driving through a red light with cross-traffic.      \t| Agent fails to reach the destination on time<br />for at least 60% of trips. |\n",
    "\n",
    "To assist evaluating these important metrics, you will need to load visualization code that will be used later on in the project. Run the code cell below to import this code which is required for your analysis."
   ]
  },
  {
   "cell_type": "markdown",
   "metadata": {},
   "source": [
    "-----\n",
    "# I.  Define Environment"
   ]
  },
  {
   "cell_type": "code",
   "execution_count": 16,
   "metadata": {
    "collapsed": false
   },
   "outputs": [],
   "source": [
    "# Import for analyzing and reading data\n",
    "import numpy as np\n",
    "import pandas as pd\n",
    "import sklearn\n",
    "import scipy as sp\n",
    "import scipy.stats as stats\n",
    "\n",
    "# Import the visualization code\n",
    "import myVisuals as vs\n",
    "import util as utils\n",
    "import matplotlib as mpl\n",
    "import matplotlib.pyplot as plt\n",
    "import seaborn as sns\n",
    "import plotly.plotly as py\n",
    "import plotly.figure_factory as ff\n",
    "import plotly.tools as tls\n",
    "\n",
    "# Pretty display for notebooks\n",
    "%matplotlib inline\n",
    "from IPython.display import display"
   ]
  },
  {
   "cell_type": "markdown",
   "metadata": {},
   "source": [
    "### The World\n",
    "Before starting to work on implementing your driving agent, it's necessary to first understand the world (environment) which the *Smartcab* and driving agent work in. One of the major components to building a self-learning agent is understanding the characteristics about the agent, which includes how the agent operates. To begin, simply run the `agent.py` agent code exactly how it is -- no need to make any additions whatsoever. Let the resulting simulation run for some time to see the various working components. Note that in the visual simulation (if enabled), the **white vehicle** is the *Smartcab*."
   ]
  },
  {
   "cell_type": "markdown",
   "metadata": {},
   "source": [
    "### Question 1\n",
    "In a few sentences, describe what you observe during the simulation when running the default `agent.py` agent code. Some things you could consider:\n",
    "- *Does the Smartcab move at all during the simulation?*\n",
    "- *What kind of rewards is the driving agent receiving?*\n",
    "- *How does the light changing color affect the rewards?*  \n",
    "\n",
    "**Hint:** From the `/smartcab/` top-level directory (where this notebook is located), run the command \n",
    "```bash\n",
    "'python smartcab/agent_q1.py'\n",
    "```"
   ]
  },
  {
   "cell_type": "markdown",
   "metadata": {},
   "source": [
    "![Image](stills/grid.png)"
   ]
  },
  {
   "cell_type": "markdown",
   "metadata": {},
   "source": [
    "### Rewards & Goal:<br>\n",
    "The smartcab receives a **positive** reward for each\n",
    "- succesfully completed trip\n",
    "- action it executes successfully that obeys traffic rules\n",
    "\n",
    "The smartcab receives a **negative** reward for each\n",
    "- incorrect action\n",
    "- action that violates traffic rules or causes an accident with another vehicle\n",
    "\n",
    "\n",
    "#### Reward Scheme:<br>\n",
    "- $R(s) = 2$ for a valid move headed toward the waypoint\n",
    "- $R(s) = 1$ for a valid move but not the waypoint \n",
    "- $R(s) = -5$ for a minor violation\n",
    "- $R(s) = -10$ for a major violation\n",
    "- $R(s) = -20$ for a minor accident\n",
    "- $R(s) = -40$ for a major accident\n",
    "\n",
    "*Based on the rewards and penalties the smartcab receives, the self-driving agent implementation should learn an optimal policy for driving on the city roads while obeying traffic rules, avoiding accidents, and reaching passengers’ destinations in the allotted time*\n",
    "\n",
    "#### Task:\n",
    "The white cab has the task of picking up a passenger at a random location and dropping them off at a goal destination\n",
    "- Pickup and dropoff location change every iteration and are assigned randomly\n",
    "- Location and movement is defined using x, y coordinates on the grid\n",
    "\n",
    "#### Definitions in Environment\n",
    "- Actions A(s) = 4\n",
    "    - Left, right, forward, none\n",
    "\n",
    "<br>\n",
    "- Classes\n",
    "    - Environment\n",
    "    - Inputs\n",
    "        - Oncoming (4) none, forward, left, right\n",
    "        - Left (4) none, forward, left, right\n",
    "        - Right (4) none, forward, left, right\n",
    "        - Light\n",
    "    - Agent\n",
    "        - Start\n",
    "        - Location\n",
    "        - Heading\n",
    "    - Destination\n",
    "        - (x, y)\n"
   ]
  },
  {
   "cell_type": "code",
   "execution_count": 56,
   "metadata": {
    "collapsed": false
   },
   "outputs": [
    {
     "data": {
      "text/html": [
       "<video width=\"100%\" height=\"640\" controls poster=\"stills/q1_poster.png\">\n",
       "  <source src=\"stills/q1_vid.mov\" type=\"video/mp4\">\n",
       "    Your browser does not support the video tag.\n",
       "</video>"
      ],
      "text/plain": [
       "<IPython.core.display.HTML object>"
      ]
     },
     "metadata": {},
     "output_type": "display_data"
    }
   ],
   "source": [
    "%%HTML\n",
    "<video width=\"100%\" height=\"640\" controls poster=\"stills/q1_poster.png\">\n",
    "  <source src=\"stills/q1_vid.mov\" type=\"video/mp4\">\n",
    "    Your browser does not support the video tag.\n",
    "</video>"
   ]
  },
  {
   "cell_type": "markdown",
   "metadata": {},
   "source": [
    "> ### My observations from initial run: \n",
    "- In the initial simulation, the smartcab does not move.\n",
    "- As the lights change, the cab recieves rewards in different amounts.\n",
    "\n",
    "\n"
   ]
  },
  {
   "cell_type": "markdown",
   "metadata": {},
   "source": [
    "### The Code\n",
    "In addition to understanding the world, it is also necessary to understand the code itself that governs how the world, simulation, and so on operate. Attempting to create a driving agent would be difficult without having at least explored the *\"hidden\"* devices that make everything work. In the `/smartcab/` top-level directory, there are two folders: `/logs/` (which will be used later) and `/smartcab/`. Open the `/smartcab/` folder and explore each Python file included, then answer the following question."
   ]
  },
  {
   "cell_type": "markdown",
   "metadata": {},
   "source": [
    "### Question 2\n",
    "- *In the *`agent.py`* Python file, choose three flags that can be set and explain how they change the simulation.*\n",
    "- *In the *`environment.py`* Python file, what Environment class function is called when an agent performs an action?*\n",
    "- *In the *`simulator.py`* Python file, what is the difference between the *`'render_text()'`* function and the *`'render()'`* function?*\n",
    "- *In the *`planner.py`* Python file, will the *`'next_waypoint()`* function consider the North-South or East-West direction first?*"
   ]
  },
  {
   "cell_type": "markdown",
   "metadata": {},
   "source": [
    ">### Flag Parameters in `agent.py`\n",
    "**Example:**\n",
    "``` \n",
    "env = Environment(verbose = True, num_dummies=10, grid_size=(10,10))\n",
    "```\n",
    "- _verbose_: Parameter true forces driving agent to use Q-learning\n",
    "    + Because Q-learning variables are not set, verbose flag does not affect driving agent\n",
    "- _num\\_dummies_ : Discrete number of dummy agents\n",
    "    + Changes the number of dummy agents in smartcab environment to 10\n",
    "- _grid\\_size_ : Discrete number of intersections\n",
    "    + Changes the number of intersections in environment to 10 columns x 10 rows\n"
   ]
  },
  {
   "cell_type": "markdown",
   "metadata": {},
   "source": [
    ">### `environment.py` functions\n",
    "- When an agent performs an action the `act` function is called.\n",
    "\n",
    "\n",
    ">### `sumulator.py` functions\n",
    "- The `render_text()` function renders and displays trial data in the terminal/command prompt.\n",
    "- The `render()` function renders and displays the simulation with a GUI.\n",
    "\n",
    "\n",
    ">### `planner.py` functions\n",
    "- The `next_waypoint()` function considers **East-West** direction _before_ **North-South**"
   ]
  },
  {
   "cell_type": "markdown",
   "metadata": {},
   "source": [
    "-----\n",
    "## I. Implement a Basic Driving Agent\n",
    "\n",
    "The first step to creating an optimized Q-Learning driving agent is getting the agent to actually take valid actions. In this case, a valid action is one of `None`, (do nothing) `'Left'` (turn left), `'Right'` (turn right), or `'Forward'` (go forward). For your first implementation, navigate to the `'choose_action()'` agent function and make the driving agent randomly choose one of these actions. Note that you have access to several class variables that will help you write this functionality, such as `'self.learning'` and `'self.valid_actions'`. Once implemented, run the agent file and simulation briefly to confirm that your driving agent is taking a random action each time step."
   ]
  },
  {
   "cell_type": "markdown",
   "metadata": {},
   "source": [
    "### Basic Agent Simulation Results\n",
    "To obtain results from the initial simulation, you will need to adjust following flags:\n",
    "- `'enforce_deadline'` - Set this to `True` to force the driving agent to capture whether it reaches the destination in time.\n",
    "- `'update_delay'` - Set this to a small value (such as `0.01`) to reduce the time between steps in each trial.\n",
    "- `'log_metrics'` - Set this to `True` to log the simluation results as a `.csv` file in `/logs/`.\n",
    "- `'n_test'` - Set this to `'10'` to perform 10 testing trials.\n",
    "\n",
    "Optionally, you may disable to the visual simulation (which can make the trials go faster) by setting the `'display'` flag to `False`. Flags that have been set here should be returned to their default setting when debugging. It is important that you understand what each flag does and how it affects the simulation!\n",
    "\n",
    "Once you have successfully completed the initial simulation (there should have been 20 training trials and 10 testing trials), run the code cell below to visualize the results. Note that log files are overwritten when identical simulations are run, so be careful with what log file is being loaded!\n",
    "Run the agent.py file after setting the flags from projects/smartcab folder instead of projects/smartcab/smartcab.\n"
   ]
  },
  {
   "cell_type": "code",
   "execution_count": 57,
   "metadata": {
    "collapsed": false
   },
   "outputs": [
    {
     "data": {
      "text/html": [
       "<video width=\"100%\" height=\"640\" controls poster=\"stills/basicAgent_poster.png\">\n",
       "  <source src=\"stills/basic_agent.mov\" type=\"video/mp4\">\n",
       "    Your browser does not support the video tag.\n",
       "</video>"
      ],
      "text/plain": [
       "<IPython.core.display.HTML object>"
      ]
     },
     "metadata": {},
     "output_type": "display_data"
    }
   ],
   "source": [
    "%%HTML\n",
    "<video width=\"100%\" height=\"640\" controls poster=\"stills/basicAgent_poster.png\">\n",
    "  <source src=\"stills/basic_agent.mov\" type=\"video/mp4\">\n",
    "    Your browser does not support the video tag.\n",
    "</video>"
   ]
  },
  {
   "cell_type": "markdown",
   "metadata": {},
   "source": [
    "1) Load data from a CSV file and save as a new dataframe `data`"
   ]
  },
  {
   "cell_type": "code",
   "execution_count": 19,
   "metadata": {
    "collapsed": false,
    "scrolled": false
   },
   "outputs": [
    {
     "name": "stdout",
     "output_type": "stream",
     "text": [
      "Data from simulation without learning read successfully!\n",
      "Simulation data has 30 samples with 13 features each.\n",
      "Training data data has 20 samples with 13 features each.\n",
      "Test data has 10 samples with 13 features each.\n"
     ]
    }
   ],
   "source": [
    "# Read data from simulation without learning\n",
    "try:\n",
    "    data = pd.read_csv(\"logs/sim_no-learning-full.csv\", header=0,\n",
    "                    names=['trial', 'testing', 'epsilon', 'alpha', 'initial_deadline', 'final_deadline', 'net_reward', 'action-legal', 'action-minor_violation', 'action-major_violation', 'action-minor_accident', 'action-major_accident', 'num_success']) \n",
    "    #                        index_col='trial')\n",
    "    print \"Data from simulation without learning read successfully!\"\n",
    "    training_data = data[data['testing'] == False]\n",
    "    testing_data = data[data['testing'] == True]\n",
    "    print \"Simulation data has {} samples with {} features each.\".format(*data.shape)\n",
    "    print \"Training data data has {} samples with {} features each.\".format(*training_data.shape)\n",
    "    print \"Test data has {} samples with {} features each.\".format(*testing_data.shape)\n",
    "except:\n",
    "    print \"Error loading dataset. Check path.\"\n",
    "        \n",
    "# getLogData(\"logs/sim_no-learning-full.csv\", data, \"without learning\")"
   ]
  },
  {
   "cell_type": "code",
   "execution_count": 20,
   "metadata": {
    "collapsed": false
   },
   "outputs": [
    {
     "data": {
      "text/html": [
       "<div>\n",
       "<table border=\"1\" class=\"dataframe\">\n",
       "  <thead>\n",
       "    <tr style=\"text-align: right;\">\n",
       "      <th></th>\n",
       "      <th>trial</th>\n",
       "      <th>testing</th>\n",
       "      <th>epsilon</th>\n",
       "      <th>alpha</th>\n",
       "      <th>initial_deadline</th>\n",
       "      <th>final_deadline</th>\n",
       "      <th>net_reward</th>\n",
       "      <th>action-legal</th>\n",
       "      <th>action-minor_violation</th>\n",
       "      <th>action-major_violation</th>\n",
       "      <th>action-minor_accident</th>\n",
       "      <th>action-major_accident</th>\n",
       "      <th>num_success</th>\n",
       "    </tr>\n",
       "  </thead>\n",
       "  <tbody>\n",
       "    <tr>\n",
       "      <th>0</th>\n",
       "      <td>1</td>\n",
       "      <td>False</td>\n",
       "      <td>1.0</td>\n",
       "      <td>0.5</td>\n",
       "      <td>20</td>\n",
       "      <td>0</td>\n",
       "      <td>-158.532106</td>\n",
       "      <td>7</td>\n",
       "      <td>4</td>\n",
       "      <td>7</td>\n",
       "      <td>0</td>\n",
       "      <td>2</td>\n",
       "      <td>0</td>\n",
       "    </tr>\n",
       "    <tr>\n",
       "      <th>1</th>\n",
       "      <td>2</td>\n",
       "      <td>False</td>\n",
       "      <td>1.0</td>\n",
       "      <td>0.5</td>\n",
       "      <td>25</td>\n",
       "      <td>0</td>\n",
       "      <td>-90.700961</td>\n",
       "      <td>17</td>\n",
       "      <td>2</td>\n",
       "      <td>4</td>\n",
       "      <td>1</td>\n",
       "      <td>1</td>\n",
       "      <td>0</td>\n",
       "    </tr>\n",
       "    <tr>\n",
       "      <th>2</th>\n",
       "      <td>3</td>\n",
       "      <td>False</td>\n",
       "      <td>1.0</td>\n",
       "      <td>0.5</td>\n",
       "      <td>30</td>\n",
       "      <td>0</td>\n",
       "      <td>-43.372967</td>\n",
       "      <td>22</td>\n",
       "      <td>3</td>\n",
       "      <td>5</td>\n",
       "      <td>0</td>\n",
       "      <td>0</td>\n",
       "      <td>0</td>\n",
       "    </tr>\n",
       "    <tr>\n",
       "      <th>3</th>\n",
       "      <td>4</td>\n",
       "      <td>False</td>\n",
       "      <td>1.0</td>\n",
       "      <td>0.5</td>\n",
       "      <td>20</td>\n",
       "      <td>0</td>\n",
       "      <td>-128.569808</td>\n",
       "      <td>12</td>\n",
       "      <td>2</td>\n",
       "      <td>3</td>\n",
       "      <td>1</td>\n",
       "      <td>2</td>\n",
       "      <td>0</td>\n",
       "    </tr>\n",
       "    <tr>\n",
       "      <th>4</th>\n",
       "      <td>5</td>\n",
       "      <td>False</td>\n",
       "      <td>1.0</td>\n",
       "      <td>0.5</td>\n",
       "      <td>25</td>\n",
       "      <td>0</td>\n",
       "      <td>-164.913775</td>\n",
       "      <td>13</td>\n",
       "      <td>2</td>\n",
       "      <td>7</td>\n",
       "      <td>1</td>\n",
       "      <td>2</td>\n",
       "      <td>0</td>\n",
       "    </tr>\n",
       "  </tbody>\n",
       "</table>\n",
       "</div>"
      ],
      "text/plain": [
       "   trial testing  epsilon  alpha  initial_deadline  final_deadline  \\\n",
       "0      1   False      1.0    0.5                20               0   \n",
       "1      2   False      1.0    0.5                25               0   \n",
       "2      3   False      1.0    0.5                30               0   \n",
       "3      4   False      1.0    0.5                20               0   \n",
       "4      5   False      1.0    0.5                25               0   \n",
       "\n",
       "   net_reward  action-legal  action-minor_violation  action-major_violation  \\\n",
       "0 -158.532106             7                       4                       7   \n",
       "1  -90.700961            17                       2                       4   \n",
       "2  -43.372967            22                       3                       5   \n",
       "3 -128.569808            12                       2                       3   \n",
       "4 -164.913775            13                       2                       7   \n",
       "\n",
       "   action-minor_accident  action-major_accident  num_success  \n",
       "0                      0                      2            0  \n",
       "1                      1                      1            0  \n",
       "2                      0                      0            0  \n",
       "3                      1                      2            0  \n",
       "4                      1                      2            0  "
      ]
     },
     "metadata": {},
     "output_type": "display_data"
    }
   ],
   "source": [
    "display(data.head(5))"
   ]
  },
  {
   "cell_type": "markdown",
   "metadata": {},
   "source": [
    "2) Create individual `action_data` data frame"
   ]
  },
  {
   "cell_type": "code",
   "execution_count": 21,
   "metadata": {
    "collapsed": false
   },
   "outputs": [
    {
     "data": {
      "text/html": [
       "<div>\n",
       "<table border=\"1\" class=\"dataframe\">\n",
       "  <thead>\n",
       "    <tr style=\"text-align: right;\">\n",
       "      <th></th>\n",
       "      <th>action-legal</th>\n",
       "      <th>action-minor_violation</th>\n",
       "      <th>action-major_violation</th>\n",
       "      <th>action-minor_accident</th>\n",
       "      <th>action-major_accident</th>\n",
       "    </tr>\n",
       "  </thead>\n",
       "  <tbody>\n",
       "    <tr>\n",
       "      <th>20</th>\n",
       "      <td>19</td>\n",
       "      <td>4</td>\n",
       "      <td>4</td>\n",
       "      <td>1</td>\n",
       "      <td>2</td>\n",
       "    </tr>\n",
       "    <tr>\n",
       "      <th>21</th>\n",
       "      <td>15</td>\n",
       "      <td>2</td>\n",
       "      <td>6</td>\n",
       "      <td>1</td>\n",
       "      <td>1</td>\n",
       "    </tr>\n",
       "    <tr>\n",
       "      <th>22</th>\n",
       "      <td>11</td>\n",
       "      <td>3</td>\n",
       "      <td>2</td>\n",
       "      <td>1</td>\n",
       "      <td>3</td>\n",
       "    </tr>\n",
       "    <tr>\n",
       "      <th>23</th>\n",
       "      <td>14</td>\n",
       "      <td>2</td>\n",
       "      <td>1</td>\n",
       "      <td>1</td>\n",
       "      <td>2</td>\n",
       "    </tr>\n",
       "    <tr>\n",
       "      <th>24</th>\n",
       "      <td>11</td>\n",
       "      <td>4</td>\n",
       "      <td>4</td>\n",
       "      <td>1</td>\n",
       "      <td>0</td>\n",
       "    </tr>\n",
       "  </tbody>\n",
       "</table>\n",
       "</div>"
      ],
      "text/plain": [
       "    action-legal  action-minor_violation  action-major_violation  \\\n",
       "20            19                       4                       4   \n",
       "21            15                       2                       6   \n",
       "22            11                       3                       2   \n",
       "23            14                       2                       1   \n",
       "24            11                       4                       4   \n",
       "\n",
       "    action-minor_accident  action-major_accident  \n",
       "20                      1                      2  \n",
       "21                      1                      1  \n",
       "22                      1                      3  \n",
       "23                      1                      2  \n",
       "24                      1                      0  "
      ]
     },
     "metadata": {},
     "output_type": "display_data"
    }
   ],
   "source": [
    "action_data = testing_data[['action-legal', 'action-minor_violation', 'action-major_violation', 'action-minor_accident', 'action-major_accident']].copy()\n",
    "display(action_data.head())"
   ]
  },
  {
   "cell_type": "markdown",
   "metadata": {},
   "source": [
    "3) Explore the data with scikit-learn"
   ]
  },
  {
   "cell_type": "code",
   "execution_count": 22,
   "metadata": {
    "collapsed": false
   },
   "outputs": [
    {
     "data": {
      "text/html": [
       "<div>\n",
       "<table border=\"1\" class=\"dataframe\">\n",
       "  <thead>\n",
       "    <tr style=\"text-align: right;\">\n",
       "      <th></th>\n",
       "      <th>trial</th>\n",
       "      <th>epsilon</th>\n",
       "      <th>alpha</th>\n",
       "      <th>initial_deadline</th>\n",
       "      <th>final_deadline</th>\n",
       "      <th>net_reward</th>\n",
       "      <th>action-legal</th>\n",
       "      <th>action-minor_violation</th>\n",
       "      <th>action-major_violation</th>\n",
       "      <th>action-minor_accident</th>\n",
       "      <th>action-major_accident</th>\n",
       "      <th>num_success</th>\n",
       "    </tr>\n",
       "  </thead>\n",
       "  <tbody>\n",
       "    <tr>\n",
       "      <th>count</th>\n",
       "      <td>30.000000</td>\n",
       "      <td>30.0</td>\n",
       "      <td>30.0</td>\n",
       "      <td>30.000000</td>\n",
       "      <td>30.0</td>\n",
       "      <td>30.000000</td>\n",
       "      <td>30.000000</td>\n",
       "      <td>30.000000</td>\n",
       "      <td>30.000000</td>\n",
       "      <td>30.000000</td>\n",
       "      <td>30.000000</td>\n",
       "      <td>30.0</td>\n",
       "    </tr>\n",
       "    <tr>\n",
       "      <th>mean</th>\n",
       "      <td>8.833333</td>\n",
       "      <td>1.0</td>\n",
       "      <td>0.5</td>\n",
       "      <td>25.000000</td>\n",
       "      <td>0.0</td>\n",
       "      <td>-116.710786</td>\n",
       "      <td>15.166667</td>\n",
       "      <td>2.500000</td>\n",
       "      <td>5.200000</td>\n",
       "      <td>0.833333</td>\n",
       "      <td>1.300000</td>\n",
       "      <td>0.0</td>\n",
       "    </tr>\n",
       "    <tr>\n",
       "      <th>std</th>\n",
       "      <td>5.614534</td>\n",
       "      <td>0.0</td>\n",
       "      <td>0.0</td>\n",
       "      <td>5.085476</td>\n",
       "      <td>0.0</td>\n",
       "      <td>47.967870</td>\n",
       "      <td>4.177801</td>\n",
       "      <td>1.432384</td>\n",
       "      <td>2.340056</td>\n",
       "      <td>0.833908</td>\n",
       "      <td>1.087547</td>\n",
       "      <td>0.0</td>\n",
       "    </tr>\n",
       "    <tr>\n",
       "      <th>min</th>\n",
       "      <td>1.000000</td>\n",
       "      <td>1.0</td>\n",
       "      <td>0.5</td>\n",
       "      <td>20.000000</td>\n",
       "      <td>0.0</td>\n",
       "      <td>-229.516220</td>\n",
       "      <td>7.000000</td>\n",
       "      <td>0.000000</td>\n",
       "      <td>1.000000</td>\n",
       "      <td>0.000000</td>\n",
       "      <td>0.000000</td>\n",
       "      <td>0.0</td>\n",
       "    </tr>\n",
       "    <tr>\n",
       "      <th>25%</th>\n",
       "      <td>4.250000</td>\n",
       "      <td>1.0</td>\n",
       "      <td>0.5</td>\n",
       "      <td>20.000000</td>\n",
       "      <td>0.0</td>\n",
       "      <td>-140.192025</td>\n",
       "      <td>12.000000</td>\n",
       "      <td>2.000000</td>\n",
       "      <td>4.000000</td>\n",
       "      <td>0.000000</td>\n",
       "      <td>0.000000</td>\n",
       "      <td>0.0</td>\n",
       "    </tr>\n",
       "    <tr>\n",
       "      <th>50%</th>\n",
       "      <td>8.000000</td>\n",
       "      <td>1.0</td>\n",
       "      <td>0.5</td>\n",
       "      <td>25.000000</td>\n",
       "      <td>0.0</td>\n",
       "      <td>-114.910763</td>\n",
       "      <td>14.500000</td>\n",
       "      <td>2.000000</td>\n",
       "      <td>5.000000</td>\n",
       "      <td>1.000000</td>\n",
       "      <td>1.000000</td>\n",
       "      <td>0.0</td>\n",
       "    </tr>\n",
       "    <tr>\n",
       "      <th>75%</th>\n",
       "      <td>12.750000</td>\n",
       "      <td>1.0</td>\n",
       "      <td>0.5</td>\n",
       "      <td>30.000000</td>\n",
       "      <td>0.0</td>\n",
       "      <td>-85.946860</td>\n",
       "      <td>18.000000</td>\n",
       "      <td>3.000000</td>\n",
       "      <td>7.000000</td>\n",
       "      <td>1.000000</td>\n",
       "      <td>2.000000</td>\n",
       "      <td>0.0</td>\n",
       "    </tr>\n",
       "    <tr>\n",
       "      <th>max</th>\n",
       "      <td>20.000000</td>\n",
       "      <td>1.0</td>\n",
       "      <td>0.5</td>\n",
       "      <td>35.000000</td>\n",
       "      <td>0.0</td>\n",
       "      <td>-33.213800</td>\n",
       "      <td>23.000000</td>\n",
       "      <td>6.000000</td>\n",
       "      <td>11.000000</td>\n",
       "      <td>3.000000</td>\n",
       "      <td>4.000000</td>\n",
       "      <td>0.0</td>\n",
       "    </tr>\n",
       "  </tbody>\n",
       "</table>\n",
       "</div>"
      ],
      "text/plain": [
       "           trial  epsilon  alpha  initial_deadline  final_deadline  \\\n",
       "count  30.000000     30.0   30.0         30.000000            30.0   \n",
       "mean    8.833333      1.0    0.5         25.000000             0.0   \n",
       "std     5.614534      0.0    0.0          5.085476             0.0   \n",
       "min     1.000000      1.0    0.5         20.000000             0.0   \n",
       "25%     4.250000      1.0    0.5         20.000000             0.0   \n",
       "50%     8.000000      1.0    0.5         25.000000             0.0   \n",
       "75%    12.750000      1.0    0.5         30.000000             0.0   \n",
       "max    20.000000      1.0    0.5         35.000000             0.0   \n",
       "\n",
       "       net_reward  action-legal  action-minor_violation  \\\n",
       "count   30.000000     30.000000               30.000000   \n",
       "mean  -116.710786     15.166667                2.500000   \n",
       "std     47.967870      4.177801                1.432384   \n",
       "min   -229.516220      7.000000                0.000000   \n",
       "25%   -140.192025     12.000000                2.000000   \n",
       "50%   -114.910763     14.500000                2.000000   \n",
       "75%    -85.946860     18.000000                3.000000   \n",
       "max    -33.213800     23.000000                6.000000   \n",
       "\n",
       "       action-major_violation  action-minor_accident  action-major_accident  \\\n",
       "count               30.000000              30.000000              30.000000   \n",
       "mean                 5.200000               0.833333               1.300000   \n",
       "std                  2.340056               0.833908               1.087547   \n",
       "min                  1.000000               0.000000               0.000000   \n",
       "25%                  4.000000               0.000000               0.000000   \n",
       "50%                  5.000000               1.000000               1.000000   \n",
       "75%                  7.000000               1.000000               2.000000   \n",
       "max                 11.000000               3.000000               4.000000   \n",
       "\n",
       "       num_success  \n",
       "count         30.0  \n",
       "mean           0.0  \n",
       "std            0.0  \n",
       "min            0.0  \n",
       "25%            0.0  \n",
       "50%            0.0  \n",
       "75%            0.0  \n",
       "max            0.0  "
      ]
     },
     "metadata": {},
     "output_type": "display_data"
    }
   ],
   "source": [
    "# Generate various sumary statistics\n",
    "display(data.describe())"
   ]
  },
  {
   "cell_type": "markdown",
   "metadata": {},
   "source": [
    "4) Display visual results from simulation"
   ]
  },
  {
   "cell_type": "code",
   "execution_count": 23,
   "metadata": {
    "collapsed": false
   },
   "outputs": [
    {
     "name": "stdout",
     "output_type": "stream",
     "text": [
      "Not enough data collected to create a visualization.\n",
      "At least 20 trials are required.\n"
     ]
    }
   ],
   "source": [
    "# Load the 'sim_no-learning' log file from the initial simulation results\n",
    "vs.plot_trials('sim_no-learning.csv')"
   ]
  },
  {
   "cell_type": "markdown",
   "metadata": {},
   "source": [
    "### Question 3\n",
    "Using the visualization above that was produced from your initial simulation, provide an analysis and make several observations about the driving agent. Be sure that you are making at least one observation about each panel present in the visualization. Some things you could consider:\n",
    "- *How frequently is the driving agent making bad decisions? How many of those bad decisions cause accidents?*\n",
    "- *Given that the agent is driving randomly, does the rate of reliability make sense?*\n",
    "- *What kind of rewards is the agent receiving for its actions? Do the rewards suggest it has been penalized heavily?*\n",
    "- *As the number of trials increases, does the outcome of results change significantly?*\n",
    "- *Would this Smartcab be considered safe and/or reliable for its passengers? Why or why not?*"
   ]
  },
  {
   "cell_type": "code",
   "execution_count": 24,
   "metadata": {
    "collapsed": false
   },
   "outputs": [
    {
     "name": "stdout",
     "output_type": "stream",
     "text": [
      "Legal actions: \t\t\t455.0\n",
      "Minor violations: \t\t75.0\n",
      "Major violations: \t\t156.0\n",
      "Minor accident: \t\t25.0\n",
      "Legal actions: \t\t\t39.0\n",
      "\n",
      "Agent makes legal actions-\t60.67% of the time\n",
      "Agent makes minor violations-\t10.00% of the time\n",
      "Agent makes major violations-\t20.80% of the time\n",
      "Agent has a minor accident-\t3.33% of the time\n",
      "Agent has a major accident-\t5.20% of the time\n"
     ]
    }
   ],
   "source": [
    "utils.getAvgActions(data)"
   ]
  },
  {
   "cell_type": "markdown",
   "metadata": {},
   "source": [
    "## Frequency of Bad Decisions When Agent is Not Learning"
   ]
  },
  {
   "cell_type": "code",
   "execution_count": 25,
   "metadata": {
    "collapsed": false
   },
   "outputs": [
    {
     "data": {
      "text/plain": [
       "[]"
      ]
     },
     "execution_count": 25,
     "metadata": {},
     "output_type": "execute_result"
    },
    {
     "data": {
      "image/png": "[encoded data removed]",
      "text/plain": [
       "<matplotlib.figure.Figure at 0x11a9f3410>"
      ]
     },
     "metadata": {},
     "output_type": "display_data"
    }
   ],
   "source": [
    "bar = sns.barplot(data=action_data, palette=\"coolwarm\")\n",
    "bar.figure.set_size_inches(12,7)\n",
    "bar.axes.set_title('Distribution of Agent Actions with No Learning', fontsize=18, alpha=0.9)\n",
    "bar.plot()"
   ]
  },
  {
   "cell_type": "code",
   "execution_count": 26,
   "metadata": {
    "collapsed": false
   },
   "outputs": [
    {
     "data": {
      "text/html": [
       "\n",
       "        <iframe\n",
       "            width=\"681.672479878\"\n",
       "            height=\"500.5\"\n",
       "            src=\"https://docs.google.com/spreadsheets/d/1FwA5i_sW4pWGhMbPKVUl5npduCET_mkiPQCFttSs81c/pubchart?oid=857693152&amp;format=interactive\"\n",
       "            frameborder=\"0\"\n",
       "            allowfullscreen\n",
       "        ></iframe>\n",
       "        "
      ],
      "text/plain": [
       "<IPython.lib.display.IFrame at 0x11a845750>"
      ]
     },
     "execution_count": 26,
     "metadata": {},
     "output_type": "execute_result"
    }
   ],
   "source": [
    "import IPython.display\n",
    "url = \"https://docs.google.com/spreadsheets/d/1FwA5i_sW4pWGhMbPKVUl5npduCET_mkiPQCFttSs81c/pubchart?oid=857693152&amp;format=interactive\"\n",
    "IPython.display.IFrame(url, width=681.6724798783807, height=500.5)"
   ]
  },
  {
   "cell_type": "markdown",
   "metadata": {},
   "source": [
    "### The driving agent is making **bad decisions** \n",
    ">A bad decision can be defined by any type of violation or accident that the agent took. Over the initial 30 trials, when the agent was not learning, bad decisions were taken on average 47% of the time with an average 9% of those causing accidents. These numbers are not surprising. Without a policy implemented, the agent takes actions at random resulting a near 50-50 shot of making a “good action”. One thing to note is as the trials execute, the total number of bad actions increases.  \n",
    "\n",
    "### Rate of Reliability (ROR)\n",
    ">At this point, the rate of reliability (ROR) is 0. The agent neglected to reach its destination in any of the trials. Given the agent is driving randomly and a deadline is enforced, the low rate of reliability makes sense. With a larger sample of trials a few randomized successes can be deduced. Though we can expect more positive results with a larger sample of trials, the ROR would not change and we would not expect any significant change to the resulting outcomes.\n",
    "\n",
    "### Negative Average Reward\n",
    ">The agent receives an average reward of -105 over the sample of trials. As a considerately large negative number, we can deduce the agent is being penalized heavily for its actions.\n",
    "\n",
    "### The Smartcab is *not* safe or reliable at this point\n",
    ">At this point, the Smartcab would not be considered safe or reliable for passengers. Their is only a 7% margin between the likelihood of making a good action versus a bad action; meaning for every 17 “good” actions, 10 “bad” actions are bad. Or, to round up, statically after 2 “good” actions there is a significantly higher probability a “bad” action will be made. \n",
    "\n",
    ">According to the defined optimization metrics, the cab scored a grade “F” for safety and reliability. The Smartcab caused 37 major accidents in the sample and repeatedly failed to reach its destination gaining a ROR of 0%. "
   ]
  },
  {
   "cell_type": "markdown",
   "metadata": {},
   "source": [
    "-----\n",
    "## Inform the Driving Agent\n",
    "The second step to creating an optimized Q-learning driving agent is defining a set of states that the agent can occupy in the environment. Depending on the input, sensory data, and additional variables available to the driving agent, a set of states can be defined for the agent so that it can eventually *learn* what action it should take when occupying a state. The condition of `'if state then action'` for each state is called a **policy**, and is ultimately what the driving agent is expected to learn. Without defining states, the driving agent would never understand which action is most optimal -- or even what environmental variables and conditions it cares about!"
   ]
  },
  {
   "cell_type": "markdown",
   "metadata": {},
   "source": [
    "### Identify States\n",
    "Inspecting the `'build_state()'` agent function shows that the driving agent is given the following data from the environment:\n",
    "- `'waypoint'`, which is the direction the *Smartcab* should drive leading to the destination, relative to the *Smartcab*'s heading.\n",
    "- `'inputs'`, which is the sensor data from the *Smartcab*. It includes \n",
    "  - `'light'`, the color of the light.\n",
    "  - `'left'`, the intended direction of travel for a vehicle to the *Smartcab*'s left. Returns `None` if no vehicle is present.\n",
    "  - `'right'`, the intended direction of travel for a vehicle to the *Smartcab*'s right. Returns `None` if no vehicle is present.\n",
    "  - `'oncoming'`, the intended direction of travel for a vehicle across the intersection from the *Smartcab*. Returns `None` if no vehicle is present.\n",
    "- `'deadline'`, which is the number of actions remaining for the *Smartcab* to reach the destination before running out of time."
   ]
  },
  {
   "cell_type": "markdown",
   "metadata": {},
   "source": [
    "### Question 4\n",
    "*Which features available to the agent are most relevant for learning both **safety** and **efficiency**? Why are these features appropriate for modeling the *Smartcab* in the environment? If you did not choose some features, why are those features* not *appropriate?*"
   ]
  },
  {
   "cell_type": "markdown",
   "metadata": {},
   "source": [
    "### Agent Features Most Relevant for Learning *both* Safety and Efficiency\n",
    ">- `'waypoint'`, is an important feature for **efficiency**\n",
    "    - The smartcab relies on a sense of direction to get to its destination.\n",
    "    - Arguably, this is where the most learning is made. Inputs are used to make effective decisions toward learning an *efficient* route.\n",
    "    - As example, a right turn on red light may maximize time when it presents itself as an alternative but progressive action toward reaching the destination.\n",
    "- `'inputs'`, are an import feature for **safety**\n",
    "  - The inputs `'light', 'left'` and `'oncoming'` are all important to creating a policy\n",
    "  - The smartcab relies on the inputs of its current state space to make smart safety decisions.\n",
    "  - As example, the cab should know it is at a `'red'` light (`'light=red'`) and not to turn `'left'` or go '`forward'`.\n",
    "  - `'right'` is **NOT** an necessary feature\n",
    "      - Disregarding `'right'` reduces the state space by 24 and is of little value to a policy\n",
    "      - As example, knowing the other aforementioned waypoints, a smartcab can enter enter a state with a red light. Knowing if another smartcab is coming from right is irrelevant to its decision to make a `'right'` turn on `'red'`. \n",
    "      - Another example, knowing the other aforementioned waypoints, a smartcab can enter a state with a green light. It only needs the knowledge of oncoming and left to judge its decision of a `'left', 'right'` or `'forward'` move.\n",
    "- `'deadline'`, is **irrelevant** for our model\n",
    "    - If a policy is correctly defined, deadline is just a bottleneck.\n",
    "    - As example, if the state space is properly defined and waypoint is accurately tuned, the cab either will or will not reach the destination in the allotted time. The cab knowing that it is running short of time, should *not* disregard traffic laws to reach its destination within the deadline."
   ]
  },
  {
   "cell_type": "markdown",
   "metadata": {},
   "source": [
    "### Define a State Space\n",
    "When defining a set of states that the agent can occupy, it is necessary to consider the *size* of the state space. That is to say, if you expect the driving agent to learn a **policy** for each state, you would need to have an optimal action for *every* state the agent can occupy. If the number of all possible states is very large, it might be the case that the driving agent never learns what to do in some states, which can lead to uninformed decisions. For example, consider a case where the following features are used to define the state of the *Smartcab*:\n",
    "\n",
    "```python\n",
    "('is_raining', 'is_foggy', 'is_red_light', 'turn_left', 'no_traffic', 'previous_turn_left', 'time_of_day')```\n",
    "\n",
    "How frequently would the agent occupy a state like `(False, True, True, True, False, False, '3AM')`? Without a near-infinite amount of time for training, it's doubtful the agent would ever learn the proper action!\n",
    "\n",
    "Frequency: \n",
    "\n",
    "= 6! + 24!\n",
    "\n",
    "Probability: \n",
    "\n",
    "= 1/(6! + 24!) = (approximately) 1.6117 E -24\n",
    "\n",
    "**If our agent entered a state every second, it would take approximately 15 years and 3 months to definitively encounter and learn an optimal policy for this single state.**"
   ]
  },
  {
   "cell_type": "markdown",
   "metadata": {},
   "source": [
    "### Question 5\n",
    "*If a state is defined using the features you've selected from **Question 4**, what would be the size of the state space? Given what you know about the evironment and how it is simulated, do you think the driving agent could learn a policy for each possible state within a reasonable number of training trials?*  \n",
    "**Hint:** Consider the *combinations* of features to calculate the total number of states!"
   ]
  },
  {
   "cell_type": "markdown",
   "metadata": {},
   "source": [
    ">state space = \n",
    "\n",
    ">**waypoint** \n",
    "(`'forward', 'left', 'right'`) + **inputs** (light(`'green', 'red'`) + oncoming(`'none', 'forward', 'left', 'right'`) + left(`'none', 'forward', 'left', 'right'`))   =   waypoint (3) + inputs ( 2,  4,  4 )\n",
    "\n",
    ">= 2(2 x 4!) \n",
    "\n",
    ">= 2(2 x 24) = 2(48)\n",
    "\n",
    ">= 96 total states"
   ]
  },
  {
   "cell_type": "markdown",
   "metadata": {},
   "source": [
    "### Update the Driving Agent State\n",
    "For your second implementation, navigate to the `'build_state()'` agent function. With the justification you've provided in **Question 4**, you will now set the `'state'` variable to a tuple of all the features necessary for Q-Learning. Confirm your driving agent is updating its state by running the agent file and simulation briefly and note whether the state is displaying. If the visual simulation is used, confirm that the updated state corresponds with what is seen in the simulation.\n",
    "\n",
    "**Note:** Remember to reset simulation flags to their default setting when making this observation!"
   ]
  },
  {
   "cell_type": "markdown",
   "metadata": {},
   "source": [
    "### Estimating Q from Transitions: Q-Learning\n",
    "\n",
    "In Q-learning a function $Q(s,a)$ represents **the maximum discounted future reward when an action ** $a$ ** is taken in state ** $s$ ** and optimizes rewards from thereon out.** A Q-Learner will train our agent to pick the best action at every state by choosing the realized maximum rewards. \n",
    "\n",
    "![agent-environment](stills/polStatAction.jpg)\n",
    "\n",
    "##### Finding a policy and training the agent\n",
    "\n",
    "$$\\pi(s) = argmax_{a} Q(s,a)$$\n",
    "A policy $\\pi$ is be responsible for choosing actions. Policies use transition functions to place a reward value on the current state:\n",
    "\n",
    "$$Q(s,a) = R(s) + \\gamma \\sum\\limits_{s^\\prime}  T(s,a,s^\\prime) \\underset{a^\\prime}{max} (s^\\prime,a^\\prime)$$\n",
    "\n",
    "Where,\n",
    "- A $ transition $ (T) is $<s,a,r,s^\\prime >$\n",
    "- and a $reward$ (R) is the sum of the utility of sequences $\\sum\\limits_{t=0}^{\\infty} R(S_{t}) = U(S_{0}, S_{1}, S{2}, \\cdots)$ such that, $\\sum\\limits_{t=0}^{\\infty} \\gamma^{t}R_{max} = \\frac{R_{max}}{1-\\gamma} $\n",
    "\n",
    "and the Q-learning rule is,\n",
    "\n",
    "\n",
    "$${Q}(s,a) := {Q}(s,a) + \\alpha(r + \\gamma\\underset{a'}{max} {Q}(s^\\prime,a^\\prime) - {Q}(s,a))$$\n",
    "\n",
    "##### The Bellman equation\n",
    "\n",
    "We learn the best move to make by iteratively finding the best move made from states we have entered. The **bellman equation ** is hence the the maximum future reward for the current state action pair _plus_ the following state action pair.\n",
    "\n",
    "$$\\hat{Q}(s,a) \\xleftarrow{\\color{Green}{\\text{learning rate}}} \\overbrace{\\underbrace{r}_{\\color{Blue}{reward}} + \\underbrace{\\gamma}_{\\color{Blue}{discount}} \\underbrace{\\underset{a'}{max} \\hat{Q}(s^\\prime,a^\\prime)}_{\\color{Blue}{\\text{utility of next state}}}}^{\\color{Red}{\\text{utility of state}}} $$\n",
    "\n",
    "$$\\hat{Q}(s,a) \\xleftarrow{\\alpha} r + \\gamma \\underset{a'}({max} \\hat{Q}(s^\\prime,a^\\prime))$$\n",
    "\n",
    "Because, our policy is undefined this is a **learning** scenario where transitions will be used to estimate our Q-Learning function (as opposed to applying value or policy iteration). The agent will balance exploration and exploitation to learn an optimal policy by observing states and learning the available actions and rewards, a transitional model. **In sum, our agent does NOT know state transition probabilities or rewards at this point.**  \n",
    "\n",
    "In Q-Learning, the agent will only learn from going from one state to another via an action and realizing the reward. Similarly, transitions are only accumulated through training; taking multiple actions in a single state. \n"
   ]
  },
  {
   "cell_type": "markdown",
   "metadata": {},
   "source": [
    "-----\n",
    "## Implement a Q-Learning Driving Agent\n",
    "The third step to creating an optimized Q-Learning agent is to begin implementing the functionality of Q-Learning itself. The concept of Q-Learning is fairly straightforward: \n",
    "1. For every state the agent visits, create an entry in the Q-table for all state-action pairs available. \n",
    "2. When the agent encounters a state and performs an action, update the Q-value associated with that state-action pair based on the reward received and the interative update rule implemented. \n",
    "\n",
    "Of course, additional benefits come from Q-Learning, such that we can have the agent choose the *best* action for each state based on the Q-values of each state-action pair possible. For this project, you will be implementing a *decaying,* $\\epsilon$*-greedy* Q-learning algorithm with *no* discount factor. Follow the implementation instructions under each **TODO** in the agent functions.\n",
    "\n",
    "Note that the agent attribute `self.Q` is a dictionary: This is how the Q-table will be formed. Each state will be a key of the `self.Q` dictionary, and each value will then be another dictionary that holds the *action* and *Q-value*. Here is an example:\n",
    "\n",
    "```python\n",
    "{ 'state-1': { \n",
    "    'action-1' : Qvalue-1,\n",
    "    'action-2' : Qvalue-2,\n",
    "     ...\n",
    "   },\n",
    "  'state-2': {\n",
    "    'action-1' : Qvalue-1,\n",
    "     ...\n",
    "   },\n",
    "   ...\n",
    "}\n",
    "```\n",
    "\n",
    "Furthermore, note that you are expected to use a *decaying* $\\epsilon$ *(exploration) factor*. Hence, as the number of trials increases, $\\epsilon$ should decrease towards 0. This is because the agent is expected to learn from its behavior and begin acting on its learned behavior. Additionally, The agent will be tested on what it has learned after $\\epsilon$ has passed a certain threshold (the default threshold is 0.01). For the initial Q-Learning implementation, you will be implementing a linear decaying function for $\\epsilon$.\n",
    "\n",
    "![decay](https://articles.wearepop.com/hs-fs/hubfs/images/_article/AI_Series/Images_Algorithm_pt2_1.jpg?t=1490647703999&width=666&name=Images_Algorithm_pt2_1.jpg)<div style=\"text-align:right\"><cite>[2]: Jake Bennett</cite></div>\n",
    "\n",
    "The image above shows how a decay function is used to iteratively refine the policy ($\\pi$) through exploration and exploitation to the point at which it converges to an optimal policy. "
   ]
  },
  {
   "cell_type": "markdown",
   "metadata": {},
   "source": [
    "## Q-Learning-Algorithm\n",
    "\n",
    "**function** Q-learning-agent (percept) **returns** an action\n",
    "    \n",
    "   &nbsp;&nbsp;&nbsp;&nbsp;&nbsp;&nbsp;**inputs:** _percept_\n",
    "   \n",
    "   &nbsp;&nbsp;&nbsp;&nbsp;&nbsp;&nbsp;&nbsp;&nbsp;&nbsp;&nbsp;&nbsp;&nbsp;current state $s'$\n",
    "        \n",
    "   &nbsp;&nbsp;&nbsp;&nbsp;&nbsp;&nbsp;&nbsp;&nbsp;&nbsp;&nbsp;&nbsp;&nbsp; reward signal $r'$\n",
    "   \n",
    "   &nbsp;&nbsp;&nbsp;&nbsp;&nbsp;&nbsp;**persistent:**\n",
    "   \n",
    "   &nbsp;&nbsp;&nbsp;&nbsp;&nbsp;&nbsp;&nbsp;&nbsp;&nbsp;&nbsp;&nbsp;&nbsp;$Q$, a table of action values indexed by state and action - initially zero\n",
    "       \n",
    "       \n",
    "   &nbsp;&nbsp;&nbsp;&nbsp;&nbsp;&nbsp;&nbsp;&nbsp;&nbsp;&nbsp;&nbsp;&nbsp;$<s, a, r>$ the previous state, action, and reward - initially null\n",
    "       \n",
    "\n",
    "\n",
    "\n",
    "**if** Terminal ? $(s)$ then $Q[s, None] \\leftarrow r' $\n",
    "\n",
    "if $s$ is not null **then**\n",
    "\n",
    "   &nbsp;&nbsp;&nbsp;&nbsp;&nbsp;&nbsp;get valid action\n",
    "   \n",
    "   &nbsp;&nbsp;&nbsp;&nbsp;&nbsp;&nbsp;do action\n",
    "   \n",
    "   &nbsp;&nbsp;&nbsp;&nbsp;&nbsp;&nbsp;&nbsp;&nbsp;&nbsp;&nbsp;&nbsp;&nbsp;observe reward $r$ and new state $s'$\n",
    "       \n",
    "   &nbsp;&nbsp;&nbsp;&nbsp;&nbsp;&nbsp;Update Q-table\n",
    "     \n",
    "   &nbsp;&nbsp;&nbsp;&nbsp;&nbsp;&nbsp;&nbsp;&nbsp;&nbsp;&nbsp;&nbsp;&nbsp;$Q[s,a] = Q[s,a] + \\alpha(r + \\gamma max_{a'}Q[s',a']-Q[s,a])$\n",
    "\n",
    "\n",
    "$<s, a, r> \\leftarrow s', argmax_{a'} f(Q[s', a'], N_{s,a}[s',a']), r'$\n",
    "\n",
    "**return** $a$"
   ]
  },
  {
   "cell_type": "code",
   "execution_count": 59,
   "metadata": {
    "collapsed": false
   },
   "outputs": [
    {
     "data": {
      "text/html": [
       "<video width=\"100%\" height=\"640\" controls poster=\"stills/qAgent_poster.png\">\n",
       "  <source src=\"stills/q_agent.mov\" type=\"video/mp4\">\n",
       "    Your browser does not support the video tag.\n",
       "</video>"
      ],
      "text/plain": [
       "<IPython.core.display.HTML object>"
      ]
     },
     "metadata": {},
     "output_type": "display_data"
    }
   ],
   "source": [
    "%%HTML\n",
    "<video width=\"100%\" height=\"640\" controls poster=\"stills/qAgent_poster.png\">\n",
    "  <source src=\"stills/q_agent.mov\" type=\"video/mp4\">\n",
    "    Your browser does not support the video tag.\n",
    "</video>"
   ]
  },
  {
   "cell_type": "markdown",
   "metadata": {},
   "source": [
    "### Q-Learning Simulation Results\n",
    "To obtain results from the initial Q-Learning implementation, you will need to adjust the following flags and setup:\n",
    "- `'enforce_deadline'` - Set this to `True` to force the driving agent to capture whether it reaches the destination in time.\n",
    "- `'update_delay'` - Set this to a small value (such as `0.01`) to reduce the time between steps in each trial.\n",
    "- `'log_metrics'` - Set this to `True` to log the simluation results as a `.csv` file and the Q-table as a `.txt` file in `/logs/`.\n",
    "- `'n_test'` - Set this to `'10'` to perform 10 testing trials.\n",
    "- `'learning'` - Set this to `'True'` to tell the driving agent to use your Q-Learning implementation.\n",
    "\n",
    "In addition, use the following decay function for $\\epsilon$:\n",
    "\n",
    "$$ \\epsilon_{t+1} = \\epsilon_{t} - 0.05, \\hspace{10px}\\textrm{for trial number } t$$\n",
    "\n",
    "If you have difficulty getting your implementation to work, try setting the `'verbose'` flag to `True` to help debug. Flags that have been set here should be returned to their default setting when debugging. It is important that you understand what each flag does and how it affects the simulation! \n",
    "\n",
    "Once you have successfully completed the initial Q-Learning simulation, run the code cell below to visualize the results. Note that log files are overwritten when identical simulations are run, so be careful with what log file is being loaded!"
   ]
  },
  {
   "cell_type": "markdown",
   "metadata": {},
   "source": [
    "#### Initial Q-Learning Agent\n",
    "1) Load data from CSV file and save as new data frame\n",
    "\n",
    "2) Create individual data frame for agent actions\n",
    "\n",
    "3) Inspect agent actions"
   ]
  },
  {
   "cell_type": "code",
   "execution_count": 28,
   "metadata": {
    "collapsed": false
   },
   "outputs": [
    {
     "name": "stdout",
     "output_type": "stream",
     "text": [
      "Data from simulation without learning read successfully!\n",
      "Similuation data has 30 samples with 13 features each.\n",
      "Training data data has 20 samples with 13 features each.\n",
      "Test data has 10 samples with 13 features each.\n"
     ]
    },
    {
     "data": {
      "text/html": [
       "<div>\n",
       "<table border=\"1\" class=\"dataframe\">\n",
       "  <thead>\n",
       "    <tr style=\"text-align: right;\">\n",
       "      <th></th>\n",
       "      <th>action-legal</th>\n",
       "      <th>action-minor_violation</th>\n",
       "      <th>action-major_violation</th>\n",
       "      <th>action-minor_accident</th>\n",
       "      <th>action-major_accident</th>\n",
       "    </tr>\n",
       "  </thead>\n",
       "  <tbody>\n",
       "    <tr>\n",
       "      <th>count</th>\n",
       "      <td>10.000000</td>\n",
       "      <td>10.0</td>\n",
       "      <td>10.0</td>\n",
       "      <td>10.0</td>\n",
       "      <td>10.0</td>\n",
       "    </tr>\n",
       "    <tr>\n",
       "      <th>mean</th>\n",
       "      <td>19.200000</td>\n",
       "      <td>0.0</td>\n",
       "      <td>0.0</td>\n",
       "      <td>0.0</td>\n",
       "      <td>0.0</td>\n",
       "    </tr>\n",
       "    <tr>\n",
       "      <th>std</th>\n",
       "      <td>4.894441</td>\n",
       "      <td>0.0</td>\n",
       "      <td>0.0</td>\n",
       "      <td>0.0</td>\n",
       "      <td>0.0</td>\n",
       "    </tr>\n",
       "    <tr>\n",
       "      <th>min</th>\n",
       "      <td>6.000000</td>\n",
       "      <td>0.0</td>\n",
       "      <td>0.0</td>\n",
       "      <td>0.0</td>\n",
       "      <td>0.0</td>\n",
       "    </tr>\n",
       "    <tr>\n",
       "      <th>25%</th>\n",
       "      <td>20.000000</td>\n",
       "      <td>0.0</td>\n",
       "      <td>0.0</td>\n",
       "      <td>0.0</td>\n",
       "      <td>0.0</td>\n",
       "    </tr>\n",
       "    <tr>\n",
       "      <th>50%</th>\n",
       "      <td>20.000000</td>\n",
       "      <td>0.0</td>\n",
       "      <td>0.0</td>\n",
       "      <td>0.0</td>\n",
       "      <td>0.0</td>\n",
       "    </tr>\n",
       "    <tr>\n",
       "      <th>75%</th>\n",
       "      <td>20.000000</td>\n",
       "      <td>0.0</td>\n",
       "      <td>0.0</td>\n",
       "      <td>0.0</td>\n",
       "      <td>0.0</td>\n",
       "    </tr>\n",
       "    <tr>\n",
       "      <th>max</th>\n",
       "      <td>25.000000</td>\n",
       "      <td>0.0</td>\n",
       "      <td>0.0</td>\n",
       "      <td>0.0</td>\n",
       "      <td>0.0</td>\n",
       "    </tr>\n",
       "  </tbody>\n",
       "</table>\n",
       "</div>"
      ],
      "text/plain": [
       "       action-legal  action-minor_violation  action-major_violation  \\\n",
       "count     10.000000                    10.0                    10.0   \n",
       "mean      19.200000                     0.0                     0.0   \n",
       "std        4.894441                     0.0                     0.0   \n",
       "min        6.000000                     0.0                     0.0   \n",
       "25%       20.000000                     0.0                     0.0   \n",
       "50%       20.000000                     0.0                     0.0   \n",
       "75%       20.000000                     0.0                     0.0   \n",
       "max       25.000000                     0.0                     0.0   \n",
       "\n",
       "       action-minor_accident  action-major_accident  \n",
       "count                   10.0                   10.0  \n",
       "mean                     0.0                    0.0  \n",
       "std                      0.0                    0.0  \n",
       "min                      0.0                    0.0  \n",
       "25%                      0.0                    0.0  \n",
       "50%                      0.0                    0.0  \n",
       "75%                      0.0                    0.0  \n",
       "max                      0.0                    0.0  "
      ]
     },
     "metadata": {},
     "output_type": "display_data"
    }
   ],
   "source": [
    "# Read data from simulation without learning\n",
    "try:\n",
    "    learning_data = pd.read_csv(\"logs/sim_default-learning-full.csv\", header=0,\n",
    "                    names=['trial', 'testing', 'epsilon', 'alpha', 'initial_deadline', 'final_deadline', 'net_reward', 'action-legal', 'action-minor_violation', 'action-major_violation', 'action-minor_accident', 'action-major_accident', 'num_success']) \n",
    "    #                        index_col='trial')\n",
    "    print \"Data from simulation without learning read successfully!\"\n",
    "    default_training_data = learning_data[learning_data['testing'] == False]\n",
    "    default_testing_data = learning_data[learning_data['testing'] == True]\n",
    "    print \"Similuation data has {} samples with {} features each.\".format(*learning_data.shape)\n",
    "    print \"Training data data has {} samples with {} features each.\".format(*default_training_data.shape)\n",
    "    print \"Test data has {} samples with {} features each.\".format(*default_testing_data.shape)\n",
    "except:\n",
    "    print \"Error loading dataset. Check path.\"\n",
    "    \n",
    "default_action_data = default_testing_data[['action-legal', 'action-minor_violation', 'action-major_violation', 'action-minor_accident', 'action-major_accident']].copy()\n",
    "display(default_action_data.describe())"
   ]
  },
  {
   "cell_type": "markdown",
   "metadata": {},
   "source": [
    "4) Display visual results from simulation and print simulation statistics\n",
    "\n",
    "_*It is important to note that 20 training trials were conducted following 10 test trials._"
   ]
  },
  {
   "cell_type": "code",
   "execution_count": 29,
   "metadata": {
    "collapsed": false
   },
   "outputs": [
    {
     "data": {
      "image/png": "[encoded data removed]",
      "text/plain": [
       "<matplotlib.figure.Figure at 0x11ab91150>"
      ]
     },
     "metadata": {},
     "output_type": "display_data"
    }
   ],
   "source": [
    "# Load the 'sim_default-learning' file from the default Q-Learning simulation\n",
    "vs.plot_trials('sim_default-learning.csv')"
   ]
  },
  {
   "cell_type": "code",
   "execution_count": 30,
   "metadata": {
    "collapsed": false
   },
   "outputs": [
    {
     "name": "stdout",
     "output_type": "stream",
     "text": [
      "Total successful runs: 8/30\n",
      "Rate of reliability: 60.00%\n",
      "Average action: 96.37%\n",
      "Average reward: 11.3696284942\n"
     ]
    }
   ],
   "source": [
    "vs.print_stats('sim_default-learning.csv')"
   ]
  },
  {
   "cell_type": "markdown",
   "metadata": {},
   "source": [
    "## Initial Q-Learning Policy Analysis"
   ]
  },
  {
   "cell_type": "markdown",
   "metadata": {},
   "source": [
    "### Question 6\n",
    "Using the visualization above that was produced from your default Q-Learning simulation, provide an analysis and make observations about the driving agent like in **Question 3**. Note that the simulation should have also produced the Q-table in a text file which can help you make observations about the agent's learning. Some additional things you could consider:  \n",
    "- *Are there any observations that are similar between the basic driving agent and the default Q-Learning agent?*\n",
    "- *Approximately how many training trials did the driving agent require before testing? Does that number make sense given the epsilon-tolerance?*\n",
    "- *Is the decaying function you implemented for $\\epsilon$ (the exploration factor) accurately represented in the parameters panel?*\n",
    "- *As the number of training trials increased, did the number of bad actions decrease? Did the average reward increase?*\n",
    "- *How does the safety and reliability rating compare to the initial driving agent?*"
   ]
  },
  {
   "cell_type": "markdown",
   "metadata": {},
   "source": [
    "### Frequence of Bad Decisions During Testing"
   ]
  },
  {
   "cell_type": "code",
   "execution_count": 31,
   "metadata": {
    "collapsed": false
   },
   "outputs": [
    {
     "data": {
      "text/plain": [
       "[]"
      ]
     },
     "execution_count": 31,
     "metadata": {},
     "output_type": "execute_result"
    },
    {
     "data": {
      "image/png": "[encoded data removed]",
      "text/plain": [
       "<matplotlib.figure.Figure at 0x11b0f4710>"
      ]
     },
     "metadata": {},
     "output_type": "display_data"
    }
   ],
   "source": [
    "bar = sns.barplot(data=default_action_data, palette=\"coolwarm\")\n",
    "bar.figure.set_size_inches(12,7)\n",
    "bar.axes.set_title('Distribution of Agent Actions with Initial Learning Policy', fontsize=18, alpha=0.9)\n",
    "bar.plot()"
   ]
  },
  {
   "cell_type": "markdown",
   "metadata": {},
   "source": [
    "### Similarities to Random Policy\n",
    ">There are few similarities between the results of the basic driving agent and the default Q-Learning agent. One similarity is that the agent still takes random actions during training. This is part of the exploration vs. exploitation tradeoff. While the new policy doesn't act out randomness every action it does take random actions to continue learning. \n",
    "\n",
    "\n",
    "### Epsilon Tolerance\n",
    ">The epsilon tolerance under this trial is 0.05. The number of training trials makes sense as after 20 trials and with an epsilon tolerance of 0.05, epsilon will decay to 0. The optimum number of training trials for some epsilon tolerance can be calculated by finding the quotient of 1 over the epsilon tolerance. \n",
    "\n",
    "$$\\text{number of trials} = 1/0.05 = 20$$"
   ]
  },
  {
   "cell_type": "markdown",
   "metadata": {},
   "source": [
    "### More \"Good\" Actions and Higher Rewards\n",
    ">As visualized in the ‘10-Trial Rolling Relative Frequency of Bad Actions’, as the number of training trials increased the number of bad actions decreased. Similarly, as the number of training trials increased the average reward per action increased. This shows evidence of learning over the course of the trials. As the number of training trials increase, the agent makes better decisions and correspondingly receives higher rewards."
   ]
  },
  {
   "cell_type": "code",
   "execution_count": 32,
   "metadata": {
    "collapsed": false
   },
   "outputs": [
    {
     "name": "stdout",
     "output_type": "stream",
     "text": [
      "Legal actions: \t\t\t192.0\n",
      "Minor violations: \t\t0.0\n",
      "Major violations: \t\t0.0\n",
      "Minor accident: \t\t0.0\n",
      "Legal actions: \t\t\t0.0\n",
      "\n",
      "Agent makes legal actions-\t100.00% of the time\n",
      "Agent makes minor violations-\t0.00% of the time\n",
      "Agent makes major violations-\t0.00% of the time\n",
      "Agent has a minor accident-\t0.00% of the time\n",
      "Agent has a major accident-\t0.00% of the time\n"
     ]
    }
   ],
   "source": [
    "utils.getAvgActions(default_action_data)"
   ]
  },
  {
   "cell_type": "markdown",
   "metadata": {},
   "source": [
    "### Not Reliable\n",
    "> As visualized in the '10-Trial Rolling Rate of Reliability', the rate of reliability only showed growth near the 12th trial. In contrast to rewards and frequency of bad actions, the rate of reliability did show change immediately. The average rate of reliability for the default learning policy was 40%. This grew 40% from the initial random policy which accrued an average reliability rating of 0%.\n",
    "\n",
    "### Summary of Policy Results\n",
    ">The Q-Learning agent received a A+ safety rating and a F reliability rating. In contrast to the basic driving agent, the Q-Learning agent improved significantly in regards to safety. For safety, the agent committed no traffic violations and always chose the correct action. For reliability, the agent improved an overall 60% where an increase in reliability is apparent through the course of trials. \n",
    "\n",
    ">During testing, the frequency of _total bad actions_ decreased quickly until the 15 trial (approximately) where it stayed constant for the remainder of trials whereas the policies _reliability_ only began to climb gradually around the 12 trial. The average reward per action showed an increase from the beginning and leveled off around 18th trial. \n",
    "\n",
    ">Looking at the exploration factor of the policy, the noted items above follow the pattern of a linear decay function. As the learning rate stays the same, the exploration factor decreases towards 0 so more weight is put on what has been already \"randomly\" explored. \n",
    "\n",
    ">The simulation suggests, a lag in reliability; how often the agent reaches its destination in the allotted time. While rewards and total bad actions begin incrementing (and decrementing) immediately, reliability shows little to any growth until the first-quarter mark. This may suggest the policy isn't applying learned values quick enough due to high exploration (many random moves) and/or low weight on learned Q-values."
   ]
  },
  {
   "cell_type": "markdown",
   "metadata": {},
   "source": [
    "-----\n",
    "## Improve the Q-Learning Driving Agent\n",
    "The third step to creating an optimized Q-Learning agent is to perform the optimization! Now that the Q-Learning algorithm is implemented and the driving agent is successfully learning, it's necessary to tune settings and adjust learning paramaters so the driving agent learns both **safety** and **efficiency**. Typically this step will require a lot of trial and error, as some settings will invariably make the learning worse. One thing to keep in mind is the act of learning itself and the time that this takes: In theory, we could allow the agent to learn for an incredibly long amount of time; however, another goal of Q-Learning is to *transition from experimenting with unlearned behavior to acting on learned behavior*. For example, always allowing the agent to perform a random action during training (if $\\epsilon = 1$ and never decays) will certainly make it *learn*, but never let it *act*. When improving on your Q-Learning implementation, consider the impliciations it creates and whether it is logistically sensible to make a particular adjustment."
   ]
  },
  {
   "cell_type": "markdown",
   "metadata": {},
   "source": [
    "### Improved Q-Learning Simulation Results\n",
    "To obtain results from the initial Q-Learning implementation, you will need to adjust the following flags and setup:\n",
    "- `'enforce_deadline'` - Set this to `True` to force the driving agent to capture whether it reaches the destination in time.\n",
    "- `'update_delay'` - Set this to a small value (such as `0.01`) to reduce the time between steps in each trial.\n",
    "- `'log_metrics'` - Set this to `True` to log the simluation results as a `.csv` file and the Q-table as a `.txt` file in `/logs/`.\n",
    "- `'learning'` - Set this to `'True'` to tell the driving agent to use your Q-Learning implementation.\n",
    "- `'optimized'` - Set this to `'True'` to tell the driving agent you are performing an optimized version of the Q-Learning implementation.\n",
    "\n",
    "Additional flags that can be adjusted as part of optimizing the Q-Learning agent:\n",
    "- `'n_test'` - Set this to some positive number (previously 10) to perform that many testing trials.\n",
    "- `'alpha'` - Set this to a real number between 0 - 1 to adjust the learning rate of the Q-Learning algorithm.\n",
    "- `'epsilon'` - Set this to a real number between 0 - 1 to adjust the starting exploration factor of the Q-Learning algorithm.\n",
    "- `'tolerance'` - set this to some small value larger than 0 (default was 0.05) to set the epsilon threshold for testing.\n",
    "\n",
    "Furthermore, use a decaying function of your choice for $\\epsilon$ (the exploration factor). Note that whichever function you use, it **must decay to **`'tolerance'`** at a reasonable rate**. The Q-Learning agent will not begin testing until this occurs. Some example decaying functions (for $t$, the number of trials):\n",
    "\n",
    "$$ \\epsilon = a^t, \\textrm{for } 0 < a < 1 \\hspace{50px}\\epsilon = \\frac{1}{t^2}\\hspace{50px}\\epsilon = e^{-at}, \\textrm{for } 0 < a < 1 \\hspace{50px} \\epsilon = \\cos(at), \\textrm{for } 0 < a < 1$$\n",
    "You may also use a decaying function for $\\alpha$ (the learning rate) if you so choose, however this is typically less common. If you do so, be sure that it adheres to the inequality $0 \\leq \\alpha \\leq 1$.\n",
    "\n",
    "If you have difficulty getting your implementation to work, try setting the `'verbose'` flag to `True` to help debug. Flags that have been set here should be returned to their default setting when debugging. It is important that you understand what each flag does and how it affects the simulation! \n",
    "\n",
    "Once you have successfully completed the improved Q-Learning simulation, run the code cell below to visualize the results. Note that log files are overwritten when identical simulations are run, so be careful with what log file is being loaded!"
   ]
  },
  {
   "cell_type": "markdown",
   "metadata": {},
   "source": [
    "### Optimize Parameters for Policy\n",
    "1) Experiment with a variety of values for alpha and epsilon\n",
    "\n",
    "2) To make this easier, I created an iterable method which logs the combinations for a variety of values\n",
    "\n",
    "__Tradeoff__\n",
    "Since there is a tradeoff between safety and reliability, I created an additional parameter `net_return_Saf-Rel` to the end of the log file. This parameter averages the values from `good_ratio` and `rate_reliability`. "
   ]
  },
  {
   "cell_type": "markdown",
   "metadata": {},
   "source": [
    "### Testing Parameters\n",
    "\n",
    "To optimize my policy I decided to run trials on the combination of different decay functions and alpha/epsilon values. I tested the following decay functions and values:\n",
    "\n",
    " Model Number     | Equation $$ \\epsilon = $$        |$\\alpha $ limits \n",
    "-------------     | -------------------------------- | ------------------------------\n",
    " 1                | $ a^t $                          | $$\\textrm{ for }$$ $$0 < a < 1$$ \n",
    " 2                | $ \\frac{1}{t^2}$                 |      \n",
    " 3                | $ \\epsilon ^ {-\\alpha t}$        | $$\\textrm{ for }$$ $$0 < a < 1$$\n",
    " 4                | $\\cos(at)$                       | $\\quad\\quad \\textrm{ for } \\quad\\quad\\quad 0 < a < 1 $\n",
    "\n",
    "\n",
    "For alpha values of :\n",
    "    \n",
    "    `[0.01, 0.05, 0.2, 0.3, 0.73, 0.8, 0.96, 0.97, 0.989, 0.99, 0.991]`\n",
    "    \n",
    "and epsilon values of :\n",
    "    \n",
    "    `[0.039, 0.04, 0.043, 0.056, 0.049, 0.05, 0.1, 0.3]`                    \n",
    "\n",
    "After testing different parameters and discount functions, I decided to further explore **model 1**. "
   ]
  },
  {
   "cell_type": "markdown",
   "metadata": {},
   "source": [
    "### Results from Model Testing"
   ]
  },
  {
   "cell_type": "code",
   "execution_count": 33,
   "metadata": {
    "collapsed": false
   },
   "outputs": [
    {
     "data": {
      "text/html": [
       "<iframe id=\"igraph\" scrolling=\"no\" style=\"border:none;\" seamless=\"seamless\" src=\"https://plot.ly/~hsherwood/153.embed\" height=\"525px\" width=\"100%\"></iframe>"
      ],
      "text/plain": [
       "<plotly.tools.PlotlyDisplay object>"
      ]
     },
     "execution_count": 33,
     "metadata": {},
     "output_type": "execute_result"
    }
   ],
   "source": [
    "from plotly import tools\n",
    "\n",
    "fig = py.get_figure(\"https://plot.ly/~hsherwood/125/\")\n",
    "# mod1 = tls.embed(\"https://plot.ly/~hsherwood/125/\")\n",
    "# mod2 = tls.embed(\"https://plot.ly/~hsherwood/127/\")\n",
    "\n",
    "py.iplot(fig)"
   ]
  },
  {
   "cell_type": "markdown",
   "metadata": {},
   "source": [
    "> The heatmap suggests the strongest parameters lie at an __alpha of 0.95 and epsilon of 0.3__. \n",
    "\n",
    "\n",
    "*To check the visual findings, verify using describe() by calling the largest entry from `net_return_Saf-Rel`.*"
   ]
  },
  {
   "cell_type": "code",
   "execution_count": 58,
   "metadata": {
    "collapsed": false
   },
   "outputs": [
    {
     "data": {
      "text/html": [
       "<video width=\"100%\" height=\"640\" controls poster=\"stills/improvedAgent_poster.png\">\n",
       "  <source src=\"stills/improved_agent.mov\" type=\"video/mp4\">\n",
       "    Your browser does not support the video tag.\n",
       "</video>"
      ],
      "text/plain": [
       "<IPython.core.display.HTML object>"
      ]
     },
     "metadata": {},
     "output_type": "display_data"
    }
   ],
   "source": [
    "%%HTML\n",
    "<video width=\"100%\" height=\"640\" controls poster=\"stills/improvedAgent_poster.png\">\n",
    "  <source src=\"stills/improved_agent.mov\" type=\"video/mp4\">\n",
    "    Your browser does not support the video tag.\n",
    "</video>"
   ]
  },
  {
   "cell_type": "code",
   "execution_count": 35,
   "metadata": {
    "collapsed": false
   },
   "outputs": [
    {
     "data": {
      "image/png": "[encoded data removed]",
      "text/plain": [
       "<matplotlib.figure.Figure at 0x11ab62210>"
      ]
     },
     "metadata": {},
     "output_type": "display_data"
    }
   ],
   "source": [
    "try:\n",
    "    test_params = pd.read_csv(\"logs/improved_stats_all_model1.csv\", header=0)\n",
    "    #                        index_col='trial')\n",
    "    with sns.axes_style(\"whitegrid\"):\n",
    "        plt.subplot(222)\n",
    "        plt.tight_layout()\n",
    "        hist = sns.distplot(test_params[\"net_return_Saf-Rel\"])\n",
    "        hist.figure.set_size_inches(12,7)\n",
    "        plt.xlabel('net return')\n",
    "        plt.ylabel('count')\n",
    "        hist.set_title('Distribution of Net Return')\n",
    "        \n",
    "    with sns.axes_style(\"whitegrid\"):\n",
    "        copy = test_params[['alpha', 'epsilon', 'net_return_Saf-Rel']].copy()\n",
    "        df = copy.pivot(\"alpha\", \"epsilon\", \"net_return_Saf-Rel\")\n",
    "        plt.subplot(221)\n",
    "        hmap = sns.heatmap(df, cmap=\"Blues\")\n",
    "        hmap.figure.set_size_inches(12,7)\n",
    "        hmap.set_title('Correlation between Alpha and Epsilon')\n",
    "    \n",
    "except:\n",
    "    print \"Error loading dataset. Check path.\"\n",
    "\n"
   ]
  },
  {
   "cell_type": "code",
   "execution_count": 36,
   "metadata": {
    "collapsed": false
   },
   "outputs": [
    {
     "data": {
      "text/plain": [
       "alpha                  0.960000\n",
       "epsilon                0.300000\n",
       "num_trials            10.000000\n",
       "num_success           10.000000\n",
       "good_ratio             0.961240\n",
       "rate_reliability       1.000000\n",
       "avg_reward            15.802201\n",
       "net_return_Saf-Rel     0.980620\n",
       "Name: 55, dtype: float64"
      ]
     },
     "execution_count": 36,
     "metadata": {},
     "output_type": "execute_result"
    }
   ],
   "source": [
    "df.describe()\n",
    "test_params.loc[test_params['net_return_Saf-Rel'].idxmax()]"
   ]
  },
  {
   "cell_type": "markdown",
   "metadata": {},
   "source": [
    "### Improved Q-Learning Agent\n",
    "\n",
    "1) Set alpha and epsilon parameters from findings\n",
    "\n",
    "2) Load data from CSV file and save as new data frame\n",
    "\n",
    "3) Create individual data frame for agent actions\n",
    "\n",
    "4) Inspect agent actions\n"
   ]
  },
  {
   "cell_type": "code",
   "execution_count": 37,
   "metadata": {
    "collapsed": false
   },
   "outputs": [
    {
     "name": "stdout",
     "output_type": "stream",
     "text": [
      "Data from simulation without learning read successfully!\n",
      "Similuation data has 70 samples with 13 features each.\n",
      "Training data data has 20 samples with 13 features each.\n",
      "Test data has 50 samples with 13 features each.\n"
     ]
    },
    {
     "data": {
      "text/html": [
       "<div>\n",
       "<table border=\"1\" class=\"dataframe\">\n",
       "  <thead>\n",
       "    <tr style=\"text-align: right;\">\n",
       "      <th></th>\n",
       "      <th>action-legal</th>\n",
       "      <th>action-minor_violation</th>\n",
       "      <th>action-major_violation</th>\n",
       "      <th>action-minor_accident</th>\n",
       "      <th>action-major_accident</th>\n",
       "    </tr>\n",
       "  </thead>\n",
       "  <tbody>\n",
       "    <tr>\n",
       "      <th>count</th>\n",
       "      <td>50.000000</td>\n",
       "      <td>50.0</td>\n",
       "      <td>50.0</td>\n",
       "      <td>50.000000</td>\n",
       "      <td>50.0</td>\n",
       "    </tr>\n",
       "    <tr>\n",
       "      <th>mean</th>\n",
       "      <td>14.620000</td>\n",
       "      <td>0.0</td>\n",
       "      <td>0.0</td>\n",
       "      <td>0.300000</td>\n",
       "      <td>0.0</td>\n",
       "    </tr>\n",
       "    <tr>\n",
       "      <th>std</th>\n",
       "      <td>5.623892</td>\n",
       "      <td>0.0</td>\n",
       "      <td>0.0</td>\n",
       "      <td>0.614452</td>\n",
       "      <td>0.0</td>\n",
       "    </tr>\n",
       "    <tr>\n",
       "      <th>min</th>\n",
       "      <td>6.000000</td>\n",
       "      <td>0.0</td>\n",
       "      <td>0.0</td>\n",
       "      <td>0.000000</td>\n",
       "      <td>0.0</td>\n",
       "    </tr>\n",
       "    <tr>\n",
       "      <th>25%</th>\n",
       "      <td>11.000000</td>\n",
       "      <td>0.0</td>\n",
       "      <td>0.0</td>\n",
       "      <td>0.000000</td>\n",
       "      <td>0.0</td>\n",
       "    </tr>\n",
       "    <tr>\n",
       "      <th>50%</th>\n",
       "      <td>15.000000</td>\n",
       "      <td>0.0</td>\n",
       "      <td>0.0</td>\n",
       "      <td>0.000000</td>\n",
       "      <td>0.0</td>\n",
       "    </tr>\n",
       "    <tr>\n",
       "      <th>75%</th>\n",
       "      <td>18.000000</td>\n",
       "      <td>0.0</td>\n",
       "      <td>0.0</td>\n",
       "      <td>0.000000</td>\n",
       "      <td>0.0</td>\n",
       "    </tr>\n",
       "    <tr>\n",
       "      <th>max</th>\n",
       "      <td>30.000000</td>\n",
       "      <td>0.0</td>\n",
       "      <td>0.0</td>\n",
       "      <td>2.000000</td>\n",
       "      <td>0.0</td>\n",
       "    </tr>\n",
       "  </tbody>\n",
       "</table>\n",
       "</div>"
      ],
      "text/plain": [
       "       action-legal  action-minor_violation  action-major_violation  \\\n",
       "count     50.000000                    50.0                    50.0   \n",
       "mean      14.620000                     0.0                     0.0   \n",
       "std        5.623892                     0.0                     0.0   \n",
       "min        6.000000                     0.0                     0.0   \n",
       "25%       11.000000                     0.0                     0.0   \n",
       "50%       15.000000                     0.0                     0.0   \n",
       "75%       18.000000                     0.0                     0.0   \n",
       "max       30.000000                     0.0                     0.0   \n",
       "\n",
       "       action-minor_accident  action-major_accident  \n",
       "count              50.000000                   50.0  \n",
       "mean                0.300000                    0.0  \n",
       "std                 0.614452                    0.0  \n",
       "min                 0.000000                    0.0  \n",
       "25%                 0.000000                    0.0  \n",
       "50%                 0.000000                    0.0  \n",
       "75%                 0.000000                    0.0  \n",
       "max                 2.000000                    0.0  "
      ]
     },
     "metadata": {},
     "output_type": "display_data"
    }
   ],
   "source": [
    "# Read data from simulation without learning\n",
    "try:\n",
    "    improved_data = pd.read_csv(\"logs/sim_improved-learning-full.csv\", header=0,\n",
    "                    names=['trial', 'testing', 'epsilon', 'alpha', 'initial_deadline', 'final_deadline', 'net_reward', 'action-legal', 'action-minor_violation', 'action-major_violation', 'action-minor_accident', 'action-major_accident', 'num_success']) \n",
    "    #                        index_col='trial')\n",
    "    print \"Data from simulation without learning read successfully!\"\n",
    "    improved_training_data = improved_data[improved_data['testing'] == False]\n",
    "    improved_testing_data = improved_data[improved_data['testing'] == True]\n",
    "    print \"Similuation data has {} samples with {} features each.\".format(*improved_data.shape)\n",
    "    print \"Training data data has {} samples with {} features each.\".format(*improved_training_data.shape)\n",
    "    print \"Test data has {} samples with {} features each.\".format(*improved_testing_data.shape)\n",
    "except:\n",
    "    print \"Error loading dataset. Check path.\"\n",
    "\n",
    "improved_action_data = improved_testing_data[['action-legal', 'action-minor_violation', 'action-major_violation', 'action-minor_accident', 'action-major_accident']].copy()\n",
    "display(improved_action_data.describe())"
   ]
  },
  {
   "cell_type": "code",
   "execution_count": 38,
   "metadata": {
    "collapsed": false
   },
   "outputs": [
    {
     "name": "stdout",
     "output_type": "stream",
     "text": [
      "Legal actions: \t\t\t731.0\n",
      "Minor violations: \t\t0.0\n",
      "Major violations: \t\t0.0\n",
      "Minor accident: \t\t15.0\n",
      "Legal actions: \t\t\t0.0\n",
      "\n",
      "Agent makes legal actions-\t97.99% of the time\n",
      "Agent makes minor violations-\t0.00% of the time\n",
      "Agent makes major violations-\t0.00% of the time\n",
      "Agent has a minor accident-\t2.01% of the time\n",
      "Agent has a major accident-\t0.00% of the time\n"
     ]
    }
   ],
   "source": [
    "utils.getAvgActions(improved_action_data)"
   ]
  },
  {
   "cell_type": "markdown",
   "metadata": {},
   "source": [
    "5) Display visual results from simulation and print simulation statistics\n",
    "\n",
    "*It is important to note that 74 training trials were conducted followed by 10 test trials.*"
   ]
  },
  {
   "cell_type": "code",
   "execution_count": 48,
   "metadata": {
    "collapsed": false
   },
   "outputs": [
    {
     "data": {
      "image/png": "[encoded data removed]",
      "text/plain": [
       "<matplotlib.figure.Figure at 0x11c5f1950>"
      ]
     },
     "metadata": {},
     "output_type": "display_data"
    }
   ],
   "source": [
    "# Load the 'sim_improved-learning' file from the improved Q-Learning simulation\n",
    "import visuals\n",
    "vs.plot_trials('sim_improved-learning.csv')"
   ]
  },
  {
   "cell_type": "code",
   "execution_count": 40,
   "metadata": {
    "collapsed": false
   },
   "outputs": [
    {
     "name": "stdout",
     "output_type": "stream",
     "text": [
      "Total successful runs: 51/84\n",
      "Rate of reliability: 80.00%\n",
      "Average action: 98.21%\n",
      "Average reward: 23.3861803072\n"
     ]
    }
   ],
   "source": [
    "vs.print_stats('sim_improved-learning.csv')"
   ]
  },
  {
   "cell_type": "markdown",
   "metadata": {},
   "source": [
    "## Improved Q-Learning Policy Analysis\n",
    "\n",
    "### Question 7\n",
    "Using the visualization above that was produced from your improved Q-Learning simulation, provide a final analysis and make observations about the improved driving agent like in **Question 6**. Questions you should answer:  \n",
    "- *What decaying function was used for epsilon (the exploration factor)?*\n",
    "- *Approximately how many training trials were needed for your agent before begining testing?*\n",
    "- *What epsilon-tolerance and alpha (learning rate) did you use? Why did you use them?*\n",
    "- *How much improvement was made with this Q-Learner when compared to the default Q-Learner from the previous section?*\n",
    "- *Would you say that the Q-Learner results show that your driving agent successfully learned an appropriate policy?*\n",
    "- *Are you satisfied with the safety and reliability ratings of the *Smartcab*?*"
   ]
  },
  {
   "cell_type": "markdown",
   "metadata": {},
   "source": [
    "### Decay Function: $\\epsilon = \\alpha^t$\n",
    "> After testing a variety of decay functions, I went with an exponential decay function. The reason being that with the parameters I tested, this decay function yielded high results while minimizing the number of training trials. With my final parameters $\\alpha = 0.3$ and $\\epsilon = 0.96$ the function ran approximately **74 training trials** before reaching +0.05 within 0.0.\n",
    "\n",
    "\n",
    "### Epsilon-tolerance and Alpha\n",
    "> The improved policy has an initial **learning rate** of $\\alpha = 0.3$. This is lower than the learning rate ($\\alpha = 0.5$) of the two initial models. Since the rate is lower, the new policy is initially putting less value on newly learned Q-values. The initial **exploration rate** of the policy is $\\epsilon = 0.96$ with an tolerance of $\\epsilon_\\text{ tolerance} = 0.05$. The exploration rate is is minimally lower than the initial two models which suggests the policy makes fewer *initial* random moves. \n",
    "\n",
    "\n",
    "### Improvement from Previous Policies\n",
    "\n",
    "\n",
    "| Evaluation | No Learning  | Initial Learning: $$ \\epsilon -= 0.05 $$  | Improved Learning: $$\\epsilon = \\alpha^t $$|\n",
    "|----------- |------------- | ----------------------------------------- | -------------------------------------------|\n",
    "| RoR        |  0.00%       | 40.00%                                    | 100.0% |\n",
    "| Safety     |  60.67%      | 96.96%                                    | 98.14% |\n",
    "| Average Reward | -114.91  | 17.81                                     | 22.54  |\n",
    "\n",
    "> - From no learning to the initial learning, the rate of reliability **improved 40%**, the safety rating **improved 49.45%**, and the average reward **improved 115.5%**. The *average improvement was 68.32%*. \n",
    "- From initial learning to improved learning, the rate of reliability **improved 150%**, the safety rating **improved 1.22%**, and the average reward **improved 26.56%**. The *average improvement was 59.26*.\n",
    "- From no learning to improved learning, the rate of reliability **improved 100%**, the safety rating **improved 61.76%**, and the average reward **improved 119.62%**. The *average improvement was 93.76*.\n",
    "\n",
    "> There was considerable learning between no learning, improved learning, and the improved learner. While the growth rate slowed, ach forward step showed signs of learning an optimum policy and growth cannot be exponential in this case.\n",
    "\n",
    "### Safety and Reliability Ratings\n",
    "\n",
    "> The smartcab under an improved learning policy scored \"A+\" in both safety and reliability. The final scores for these ratings were at 100% in rate of reliability and 98.14% in safety. The metrics here show a strong policy, that I am satisfied with."
   ]
  },
  {
   "cell_type": "markdown",
   "metadata": {},
   "source": [
    "### Distribution of Agent Actions Among Different Policies"
   ]
  },
  {
   "cell_type": "code",
   "execution_count": 41,
   "metadata": {
    "collapsed": false
   },
   "outputs": [
    {
     "data": {
      "image/png": "[encoded data removed]",
      "text/plain": [
       "<matplotlib.figure.Figure at 0x11ab66d10>"
      ]
     },
     "metadata": {},
     "output_type": "display_data"
    }
   ],
   "source": [
    "# Improved Learning\n",
    "with sns.axes_style(\"whitegrid\"):\n",
    "    plt.subplot(212)\n",
    "    plt.tight_layout()\n",
    "    mod1 = sns.barplot(data=improved_action_data, palette=\"coolwarm\")\n",
    "    mod1.figure.set_size_inches(12,7)\n",
    "    mod1.axes.set_title('Improved Learning', fontsize=14, alpha=0.9)\n",
    "\n",
    "# Default\n",
    "with sns.axes_style(\"whitegrid\"):\n",
    "    plt.subplot(221)\n",
    "    plt.tight_layout()\n",
    "    plt.xticks(rotation=330)\n",
    "    mod2 = sns.barplot(data=default_action_data, palette=\"coolwarm\")\n",
    "    mod2.figure.set_size_inches(12,7)\n",
    "    mod2.axes.set_title('Initial Learning', fontsize=14, alpha=0.9)\n",
    "    \n",
    "\n",
    "# No learning\n",
    "with sns.axes_style(\"whitegrid\"):\n",
    "    plt.subplot(222)\n",
    "    plt.tight_layout()\n",
    "    plt.xticks(rotation=330)\n",
    "    mod2 = sns.barplot(data=action_data, palette=\"coolwarm\")\n",
    "    mod2.figure.set_size_inches(12,7)\n",
    "    mod2.axes.set_title('No Learning', fontsize=14, alpha=0.9)"
   ]
  },
  {
   "cell_type": "markdown",
   "metadata": {},
   "source": [
    "### Define an Optimal Policy\n",
    "\n",
    "Sometimes, the answer to the important question *\"what am I trying to get my agent to learn?\"* only has a theoretical answer and cannot be concretely described. Here, however, you can concretely define what it is the agent is trying to learn, and that is the U.S. right-of-way traffic laws. Since these laws are known information, you can further define, for each state the *Smartcab* is occupying, the optimal action for the driving agent based on these laws. In that case, we call the set of optimal state-action pairs an **optimal policy**. Hence, unlike some theoretical answers, it is clear whether the agent is acting \"incorrectly\" not only by the reward (penalty) it receives, but also by pure observation. If the agent drives through a red light, we both see it receive a negative reward but also know that it is not the correct behavior. This can be used to your advantage for verifying whether the **policy** your driving agent has learned is the correct one, or if it is a **suboptimal policy**."
   ]
  },
  {
   "cell_type": "markdown",
   "metadata": {},
   "source": [
    "### Question 8\n",
    "Provide a few examples (using the states you've defined) of what an optimal policy for this problem would look like. Afterwards, investigate the `'sim_improved-learning.txt'` text file to see the results of your improved Q-Learning algorithm. _For each state that has been recorded from the simulation, is the **policy** (the action with the highest value) correct for the given state? Are there any states where the policy is different than what would be expected from an optimal policy?_ Provide an example of a state and all state-action rewards recorded, and explain why it is the correct policy."
   ]
  },
  {
   "cell_type": "markdown",
   "metadata": {},
   "source": [
    "### Optimal Policy: \n",
    "A state is defined by the tuple `'waypoint', inputs['light], inputs['oncoming']`.\n",
    "\n",
    ">**Example 1:** The cab is at a green light and wants to head left. In the oncoming direction there is a car turning left.\n",
    "\n",
    ">`('left', 'green', 'left')\n",
    "   -- forward : 0.00\n",
    "   -- None : -0.06\n",
    "   -- right : -0.19\n",
    "   -- left : 0.95`\n",
    "\n",
    "> The Q-values at this state suggest:\n",
    " - The **best move** is to go `left`\n",
    " - The **worst move** is to go `right`\n",
    " \n",
    "> The policy makes the <u>correct</u> decision here.\n",
    "\n",
    ">_**Explanation:**_\n",
    "\n",
    "> Available moves in current state:\n",
    "- Left: The agent is at a green light, wants to drive left, and there is no oncoming traffic.\n",
    "- Right: Though this is a legal move, it would be heading the opposite direction of the destination.\n",
    "- ~~None~~: Taking no action would be illegal since there is a green light and no oncoming traffic.\n",
    "- Forward: Moving forward is a legal move.\n",
    "\n",
    "> Since the light is green and the agent wants to drive left, a perfect environment would allow the agent to turn left. If we apply general traffic laws, `none` should be ruled out. We can also eliminate `right` since it takes the agent the opposite direction of its destination. Depending on the waypoint, the agent may need to take an additional 3 steps to get back on track to its destination. This is quite wasteful when there is a time deadline. \n",
    "\n",
    ">By process of elimination, we are left with two options, `left` and `forward`. Since the agent would like to move left and it is a legal action, the best move is to go left which the policy correctly identifies. This action can be validated additionally looking at the `environment.py` file where rewards are explicitly defined:\n",
    "\n",
    "```python\n",
    "# The agent wants to drive left\n",
    "elif action == 'left':\n",
    "    if light != 'green': # Running a red light\n",
    "        violation = 2 # Major violation\n",
    "        if inputs['left'] == 'forward' or inputs['right'] == 'forward': # Cross traffic\n",
    "            violation = 4 # Accident\n",
    "        elif inputs['oncoming'] == 'right': # Oncoming car turning right\n",
    "            violation = 4 # Accident\n",
    "    else: # Green light\n",
    "        if inputs['oncoming'] == 'right' or inputs['oncoming'] == 'forward': # Incoming traffic\n",
    "            violation = 3 # Accident\n",
    "        else: # Valid move!\n",
    "            heading = (heading[1], -heading[0])\n",
    "```"
   ]
  },
  {
   "cell_type": "markdown",
   "metadata": {},
   "source": [
    "> **Example 2:** The cab is at a red light and wants to head forward. There is no oncoming traffic present.\n",
    "\n",
    ">`('forward', 'red', None)\n",
    "     -- forward : 0.00\n",
    "     -- None : 2.19\n",
    "     -- right : 0.00\n",
    "     -- left : -10.40`\n",
    "\n",
    "> The Q-values at this state suggest:\n",
    " - The **best move** is to idle at the right (`none`)\n",
    " - The **worst move** is to go `left`\n",
    " \n",
    "> The policy makes the <u>correct</u> decision here.\n",
    "\n",
    ">_**Explanation**_\n",
    "\n",
    "> Available moves in current state:\n",
    "- ~~Left~~: Making a left turn at a red light is an illegal move.\n",
    "- Right: Turning right is legal in this state.\n",
    "- None: Taking no action is legal in this state.\n",
    "- ~~Forward~~: Moving forward at a red light is an illegal move.\n",
    "\n",
    ">As the light is red there are few valid actions. The valid actions defined by general driving laws include idling (`none`) and, in some cases, `right`. Since the agent wants to drive forward the best move is to idle. Validation is below.\n",
    "\n",
    "```python\n",
    "# Agent wants to drive forward:\n",
    "if action == 'forward':\n",
    "    if light != 'green': # Running red light\n",
    "        violation = 2 # Major violation\n",
    "        if inputs['left'] == 'forward' or inputs['right'] == 'forward': # Cross traffic\n",
    "            violation = 4 # Accident\n",
    "            ```"
   ]
  },
  {
   "cell_type": "markdown",
   "metadata": {},
   "source": [
    "> **Example 3:** The cab is at a red light and wants to go left. The oncoming traffic is going right.\n",
    "\n",
    ">`('left', 'red', 'right')\n",
    "    -- forward : -10.25\n",
    "    -- None : 1.31\n",
    "    -- right : -19.82\n",
    "    -- left : 0.00`\n",
    "\n",
    "> The Q-values at this state suggest:\n",
    " - The **best move** is to go `none`\n",
    " - The **worst move** is to go `right`\n",
    " \n",
    "> The policy makes the <u>correct</u> decision here.\n",
    "\n",
    ">_**Explanation:**_\n",
    "\n",
    ">> Available moves in current state:\n",
    "- ~~Left~~: Making a left turn at a red light is an illegal move.\n",
    "- Right: Turning right is legal in this state.\n",
    "- None: Taking no action is legal in this state.\n",
    "- ~~Forward~~: Moving forward at a red light is an illegal move.\n",
    "\n",
    ">Following up from the second example, a red light leads to few legal moves.  Making a right turn when the agent wishes to turn left can set the agent in the wrong direction causing additional time to get back on track. The high negative Q-value for `right` may suggest there is cross traffic at the intersection. In either case the policy correctly identifies the correct action, in this state, the best action is to idle.\n",
    "\n",
    "```python\n",
    "# Agent wants to drive left:\n",
    "    elif action == 'left':\n",
    "        if light != 'green': # Running a red light\n",
    "            violation = 2 # Major violation\n",
    "            if inputs['left'] == 'forward' or inputs['right'] == 'forward': # Cross traffic\n",
    "                violation = 4 # Accident\n",
    "            elif inputs['oncoming'] == 'right': # Oncoming car turning right\n",
    "                violation = 4 # Accident\n",
    "        else: # Green light\n",
    "            if inputs['oncoming'] == 'right' or inputs['oncoming'] == 'forward': # Incoming traffic\n",
    "                violation = 3 # Accident\n",
    "            else: # Valid move!\n",
    "                heading = (heading[1], -heading[0])\n",
    "                        ```"
   ]
  },
  {
   "cell_type": "markdown",
   "metadata": {},
   "source": [
    "-----\n",
    "### Optional: Future Rewards - Discount Factor, `'gamma'`\n",
    "Curiously, as part of the Q-Learning algorithm, you were asked to **not** use the discount factor, `'gamma'` in the implementation. Including future rewards in the algorithm is used to aid in propogating positive rewards backwards from a future state to the current state. Essentially, if the driving agent is given the option to make several actions to arrive at different states, including future rewards will bias the agent towards states that could provide even more rewards. An example of this would be the driving agent moving towards a goal: With all actions and rewards equal, moving towards the goal would theoretically yield better rewards if there is an additional reward for reaching the goal. However, even though in this project, the driving agent is trying to reach a destination in the allotted time, including future rewards will not benefit the agent. In fact, if the agent were given many trials to learn, it could negatively affect Q-values!"
   ]
  },
  {
   "cell_type": "markdown",
   "metadata": {},
   "source": [
    "## Deep Q-Learning-Agent\n",
    "\n",
    "$\\qquad Q[s,a] \\leftarrow r + \\alpha(N_{s,a}[s,a](r + \\gamma max_{a'}Q[s',a']-Q[s,a])$\n",
    "\n",
    "**function** Q-learning-agent (percept) **returns** an action\n",
    "    \n",
    "   $\\qquad$ **inputs:** _percept_\n",
    "   \n",
    "   $\\qquad$$\\qquad$ current state $s'$\n",
    "        \n",
    "   $\\qquad$$\\qquad$ reward signal $r'$\n",
    "   \n",
    "   $\\qquad$**persistent:**\n",
    "   \n",
    "   $\\qquad$$\\qquad Q$, a table of action values indexed by state and action - initially zero\n",
    "       \n",
    "   $\\qquad$$\\qquad N_{sa'}$, a table of frequencies for state-action pairs - initially zero\n",
    "       \n",
    "   $\\qquad$$\\qquad <s, a, r>$ the previous state, action, and reward - initially null\n",
    "       \n",
    "\n",
    "\n",
    "\n",
    "**if** Terminal ? $(s)$ then $Q[s, None] \\leftarrow r' $\n",
    "\n",
    "if $s$ is not null **then**\n",
    "\n",
    "   $\\qquad$increment $N_{sa}[s,a]$\n",
    "     \n",
    "   $\\qquad Q[s,a] \\leftarrow Q[s,a] + \\alpha(N_{s,a}[s,a](r + \\gamma max_{a'}Q[s',a']-Q[s,a])$\n",
    "\n",
    "\n",
    "$<s, a, r> \\leftarrow s', argmax_{a'} f(Q[s', a'], N_{s,a}[s',a']), r'$\n",
    "\n",
    "**return** $a$"
   ]
  },
  {
   "cell_type": "markdown",
   "metadata": {},
   "source": [
    "### Optional Question 9\n",
    "*There are two characteristics about the project that invalidate the use of future rewards in the Q-Learning algorithm. One characteristic has to do with the *Smartcab* itself, and the other has to do with the environment. Can you figure out what they are and why future rewards won't work for this project?*"
   ]
  },
  {
   "cell_type": "markdown",
   "metadata": {},
   "source": [
    "**Answer:**"
   ]
  },
  {
   "cell_type": "markdown",
   "metadata": {},
   "source": [
    "> **Note**: Once you have completed all of the code implementations and successfully answered each question above, you may finalize your work by exporting the iPython Notebook as an HTML document. You can do this by using the menu above and navigating to  \n",
    "**File -> Download as -> HTML (.html)**. Include the finished document along with this notebook as your submission."
   ]
  }
 ],
 "metadata": {
  "kernelspec": {
   "display_name": "Python 2",
   "language": "python",
   "name": "python2"
  },
  "language_info": {
   "codemirror_mode": {
    "name": "ipython",
    "version": 2
   },
   "file_extension": ".py",
   "mimetype": "text/x-python",
   "name": "python",
   "nbconvert_exporter": "python",
   "pygments_lexer": "ipython2",
   "version": "2.7.13"
  }
 },
 "nbformat": 4,
 "nbformat_minor": 0
}
